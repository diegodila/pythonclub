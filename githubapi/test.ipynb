{
 "cells": [
  {
   "cell_type": "code",
   "execution_count": 2,
   "metadata": {},
   "outputs": [],
   "source": [
    "import urllib3, base64, os, json"
   ]
  },
  {
   "cell_type": "code",
   "execution_count": 90,
   "metadata": {},
   "outputs": [
    {
     "name": "stdout",
     "output_type": "stream",
     "text": [
      "https://api.github.com/users/diegodila/repos\n"
     ]
    }
   ],
   "source": [
    "USER='diegodila'\n",
    "API_TOKEN='ATOKEN'\n",
    "GIT_API_URL= f'https://api.github.com/users/{USER}/repos'\n",
    "print(GIT_API_URL)"
   ]
  },
  {
   "cell_type": "code",
   "execution_count": 91,
   "metadata": {},
   "outputs": [],
   "source": [
    "http = urllib3.PoolManager()\n"
   ]
  },
  {
   "cell_type": "code",
   "execution_count": 92,
   "metadata": {},
   "outputs": [],
   "source": [
    "resp = http.request(\"GET\", GIT_API_URL)\n",
    "resp1  = http.request(\"GET\", \"https://httpbin.org/ip\")"
   ]
  },
  {
   "cell_type": "code",
   "execution_count": 106,
   "metadata": {},
   "outputs": [
    {
     "data": {
      "text/plain": [
       "bytes"
      ]
     },
     "execution_count": 106,
     "metadata": {},
     "output_type": "execute_result"
    }
   ],
   "source": [
    "# print(resp.data)\n",
    "type(resp.data)"
   ]
  },
  {
   "cell_type": "code",
   "execution_count": 98,
   "metadata": {},
   "outputs": [],
   "source": [
    "json_data = json.loads(resp.data.decode('utf-8'))\n"
   ]
  },
  {
   "cell_type": "code",
   "execution_count": 107,
   "metadata": {},
   "outputs": [],
   "source": [
    "repositories = [i['html_url'] for i in json_data]"
   ]
  },
  {
   "cell_type": "code",
   "execution_count": 112,
   "metadata": {},
   "outputs": [
    {
     "name": "stderr",
     "output_type": "stream",
     "text": [
      "Cloning into 'android'...\n",
      "Cloning into 'cloudplatform'...\n",
      "Cloning into 'Coursera'...\n",
      "Cloning into 'database'...\n",
      "Cloning into 'datastructure'...\n",
      "Cloning into 'design'...\n",
      "Cloning into 'diegodila'...\n",
      "Cloning into 'fiap'...\n",
      "Cloning into 'flutter'...\n",
      "Cloning into 'git'...\n",
      "Cloning into 'governance'...\n",
      "Cloning into 'java'...\n",
      "Cloning into 'javaclub'...\n",
      "Cloning into 'Javascript'...\n",
      "Cloning into 'kotlin'...\n",
      "Cloning into 'linux'...\n",
      "Cloning into 'linuxscriptsdistro'...\n",
      "Cloning into 'nodejs'...\n",
      "Cloning into 'pyspark'...\n",
      "Cloning into 'pythonclub'...\n",
      "Cloning into 'spark'...\n",
      "Cloning into 'springboot'...\n",
      "Cloning into 'webscraping'...\n"
     ]
    }
   ],
   "source": [
    "os.system(''' mkdir diegao ''')\n",
    "os.chdir(\"./diegao\")\n",
    "for i in repositories:\n",
    "    os.system(f'git clone {i}')"
   ]
  },
  {
   "cell_type": "code",
   "execution_count": 72,
   "metadata": {},
   "outputs": [
    {
     "data": {
      "text/plain": [
       "[]"
      ]
     },
     "execution_count": 72,
     "metadata": {},
     "output_type": "execute_result"
    }
   ],
   "source": [
    "list(filter(lambda d: d.keys == 'id' , a))"
   ]
  },
  {
   "cell_type": "code",
   "execution_count": 46,
   "metadata": {},
   "outputs": [],
   "source": [
    "b = a[0]"
   ]
  },
  {
   "cell_type": "code",
   "execution_count": 61,
   "metadata": {},
   "outputs": [
    {
     "data": {
      "text/plain": [
       "[]"
      ]
     },
     "execution_count": 61,
     "metadata": {},
     "output_type": "execute_result"
    }
   ],
   "source": [
    "a"
   ]
  },
  {
   "cell_type": "code",
   "execution_count": 58,
   "metadata": {},
   "outputs": [
    {
     "ename": "TypeError",
     "evalue": "'builtin_function_or_method' object is not iterable",
     "output_type": "error",
     "traceback": [
      "\u001b[0;31m---------------------------------------------------------------------------\u001b[0m",
      "\u001b[0;31mTypeError\u001b[0m                                 Traceback (most recent call last)",
      "\u001b[0;32m/tmp/ipykernel_19570/2972809110.py\u001b[0m in \u001b[0;36m<module>\u001b[0;34m\u001b[0m\n\u001b[0;32m----> 1\u001b[0;31m \u001b[0mdict_you_want\u001b[0m \u001b[0;34m=\u001b[0m \u001b[0;34m{\u001b[0m \u001b[0;34m'name'\u001b[0m\u001b[0;34m:\u001b[0m \u001b[0mb\u001b[0m\u001b[0;34m[\u001b[0m\u001b[0mname\u001b[0m\u001b[0;34m]\u001b[0m \u001b[0;32mfor\u001b[0m \u001b[0mname\u001b[0m \u001b[0;32min\u001b[0m \u001b[0mb\u001b[0m\u001b[0;34m.\u001b[0m\u001b[0mkeys\u001b[0m \u001b[0;34m}\u001b[0m\u001b[0;34m\u001b[0m\u001b[0;34m\u001b[0m\u001b[0m\n\u001b[0m",
      "\u001b[0;31mTypeError\u001b[0m: 'builtin_function_or_method' object is not iterable"
     ]
    }
   ],
   "source": [
    "dict_you_want = { 'name': b[name] for name in b.keys }"
   ]
  },
  {
   "cell_type": "code",
   "execution_count": 59,
   "metadata": {},
   "outputs": [
    {
     "name": "stdout",
     "output_type": "stream",
     "text": [
      "android\n"
     ]
    }
   ],
   "source": [
    "for key, value in b.items():\n",
    "    if(key == 'name'):\n",
    "        print(value)"
   ]
  },
  {
   "cell_type": "code",
   "execution_count": null,
   "metadata": {},
   "outputs": [],
   "source": []
  },
  {
   "cell_type": "code",
   "execution_count": null,
   "metadata": {},
   "outputs": [],
   "source": []
  }
 ],
 "metadata": {
  "interpreter": {
   "hash": "68ba377d1af2b28223ebdfb0cad147e9f70e558b6a2e5e4528b4c89fdcd7bb67"
  },
  "kernelspec": {
   "display_name": "Python 3.10.1 64-bit ('.venv': venv)",
   "language": "python",
   "name": "python3"
  },
  "language_info": {
   "codemirror_mode": {
    "name": "ipython",
    "version": 3
   },
   "file_extension": ".py",
   "mimetype": "text/x-python",
   "name": "python",
   "nbconvert_exporter": "python",
   "pygments_lexer": "ipython3",
   "version": "3.10.1"
  },
  "orig_nbformat": 4
 },
 "nbformat": 4,
 "nbformat_minor": 2
}
