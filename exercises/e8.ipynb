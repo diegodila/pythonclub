{
 "cells": [
  {
   "cell_type": "code",
   "execution_count": null,
   "id": "8491248d-e412-46e8-b71e-eb6e07fcf76e",
   "metadata": {},
   "outputs": [],
   "source": []
  }
 ],
 "metadata": {
  "kernelspec": {
   "display_name": "Python 3 (ipykernel)",
   "language": "python",
   "name": "python3"
  },
  "language_info": {
   "name": ""
  }
 },
 "nbformat": 4,
 "nbformat_minor": 5
}
