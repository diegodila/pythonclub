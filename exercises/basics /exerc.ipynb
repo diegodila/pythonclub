{
 "cells": [
  {
   "cell_type": "markdown",
   "id": "862892ba-ea87-4138-8fb1-57d5ab21af2b",
   "metadata": {},
   "source": [
    "    1. Write a Python program to print the following string in a specific format (see the output).   \n",
    "    Sample String : \"Twinkle, twinkle, little star, How I wonder what you are! Up above the world so high, Like a diamond in the sky. Twinkle, twinkle, little star, How I wonder what you are\" Output :  \n",
    "    Twinkle, twinkle, little star,  \n",
    "        How I wonder what you are!   \n",
    "            Up above the world so high,     \t\t\n",
    "            Like a diamond in the sky.   \n",
    "    Twinkle, twinkle, little star,   \n",
    "        How I wonder what you are  "
   ]
  },
  {
   "cell_type": "code",
   "execution_count": null,
   "id": "1580c82c-ae80-44aa-88cd-4c01579a3782",
   "metadata": {},
   "outputs": [],
   "source": []
  },
  {
   "cell_type": "markdown",
   "id": "8a750b4e-f70f-4085-a43b-2dc9ed2efd7e",
   "metadata": {},
   "source": [
    "    2. Write a Python program to get the Python version you are using."
   ]
  },
  {
   "cell_type": "code",
   "execution_count": 5,
   "id": "f602cde1-9c96-44f2-aa72-6f407b79fa06",
   "metadata": {},
   "outputs": [
    {
     "data": {
      "text/plain": [
       "sys.version_info(major=3, minor=9, micro=10, releaselevel='final', serial=0)"
      ]
     },
     "execution_count": 5,
     "metadata": {},
     "output_type": "execute_result"
    }
   ],
   "source": [
    "import sys\n",
    "sys.version_info"
   ]
  },
  {
   "cell_type": "markdown",
   "id": "29cb6775-7ea7-4b3e-bc54-4467d3319465",
   "metadata": {},
   "source": [
    "    3. Write a Python program to display the current date and time.  \n",
    "    Sample Output :  \n",
    "    Current date and time :  \n",
    "    2014-07-05 14:34:14"
   ]
  },
  {
   "cell_type": "code",
   "execution_count": null,
   "id": "1da92d32-10aa-4ea0-8d89-d4377e560a14",
   "metadata": {},
   "outputs": [],
   "source": []
  },
  {
   "cell_type": "markdown",
   "id": "4e510509-2526-41c6-a333-a030faa5081b",
   "metadata": {},
   "source": [
    "    4. Write a Python program which accepts the radius of a circle from the user and compute the area.  \n",
    "    Sample Output :  \n",
    "    r = 1.1  \n",
    "    Area = 3.8013271108436504"
   ]
  },
  {
   "cell_type": "code",
   "execution_count": null,
   "id": "6b8dfcff-3648-4476-a366-dd17bbe929c7",
   "metadata": {},
   "outputs": [],
   "source": []
  },
  {
   "cell_type": "markdown",
   "id": "f03f5f12-8846-4698-87bb-d1fc9d325b77",
   "metadata": {},
   "source": [
    "    5. Write a Python program which accepts the user's first and last name and print them in reverse order with a space between them."
   ]
  },
  {
   "cell_type": "code",
   "execution_count": null,
   "id": "7b8b6015-64c3-4b24-bca9-6d13c3e1d409",
   "metadata": {},
   "outputs": [],
   "source": []
  },
  {
   "cell_type": "markdown",
   "id": "23615e34-4b7f-40e9-86c4-76db12bda107",
   "metadata": {},
   "source": [
    "    6. Write a Python program which accepts a sequence of comma-separated numbers from user and generate a list and a tuple with those numbers  \n",
    "    Sample data : 3, 5, 7, 23  \n",
    "    Output :  \n",
    "    List : ['3', ' 5', ' 7', ' 23']  \n",
    "    Tuple : ('3', ' 5', ' 7', ' 23')"
   ]
  },
  {
   "cell_type": "code",
   "execution_count": null,
   "id": "71043a6f-3cfd-43e2-a8de-fe44991f3fe7",
   "metadata": {},
   "outputs": [],
   "source": []
  },
  {
   "cell_type": "markdown",
   "id": "83ebe596-4fd2-4deb-8640-3aba342aeaa6",
   "metadata": {},
   "source": [
    "    7. Write a Python program to accept a filename from the user and print the extension of that.  \n",
    "    Sample filename : abc.java\n",
    "    Output : java"
   ]
  },
  {
   "cell_type": "code",
   "execution_count": null,
   "id": "e287ab55-5b24-43f0-a529-17295b0fb3ea",
   "metadata": {},
   "outputs": [],
   "source": []
  },
  {
   "cell_type": "markdown",
   "id": "3537a73a-4fc0-43a0-b196-770f73d2b86f",
   "metadata": {},
   "source": [
    "    8. Write a Python program to display the first and last colors from the following list.\n",
    "    color_list = [\"Red\",\"Green\",\"White\" ,\"Black\"]"
   ]
  },
  {
   "cell_type": "code",
   "execution_count": null,
   "id": "d4b94c25-8b23-489b-a00c-f69f3f2ccb88",
   "metadata": {},
   "outputs": [],
   "source": []
  },
  {
   "cell_type": "markdown",
   "id": "d97b2636-2801-4c98-b87b-3dff8ebba3e2",
   "metadata": {},
   "source": [
    "    9. Write a Python program to display the examination schedule. (extract the date from exam_st_date).\n",
    "    exam_st_date = (11, 12, 2014)\n",
    "    Sample Output : The examination will start from : 11 / 12 / 2014"
   ]
  },
  {
   "cell_type": "code",
   "execution_count": null,
   "id": "75582ee9-9377-4a4e-bfb1-b87585ad3890",
   "metadata": {},
   "outputs": [],
   "source": []
  },
  {
   "cell_type": "markdown",
   "id": "af45599a-ca5b-48fc-91a6-c4ea00760829",
   "metadata": {},
   "source": [
    "    10. Write a Python program that accepts an integer (n) and computes the value of n+nn+nnn.\n",
    "    Sample value of n is 5"
   ]
  },
  {
   "cell_type": "code",
   "execution_count": 25,
   "id": "a4021156-7d61-49d9-953c-0e40d23fb924",
   "metadata": {},
   "outputs": [
    {
     "name": "stdin",
     "output_type": "stream",
     "text": [
      "Digite um numero 5\n"
     ]
    },
    {
     "name": "stdout",
     "output_type": "stream",
     "text": [
      "615\n"
     ]
    }
   ],
   "source": [
    "number = input('Digite um numero')\n",
    "print(f'{int(n+n+n) + int(n+n) + int(n)}')"
   ]
  },
  {
   "cell_type": "code",
   "execution_count": 22,
   "id": "eb0b9722-437c-479b-b0c6-66e80592c997",
   "metadata": {},
   "outputs": [],
   "source": []
  },
  {
   "cell_type": "code",
   "execution_count": null,
   "id": "61fd3093-1296-4c17-8e25-bb0b1c125972",
   "metadata": {},
   "outputs": [],
   "source": []
  },
  {
   "cell_type": "code",
   "execution_count": null,
   "id": "aeca5715-c3f0-488f-8cbc-ce28f6f60338",
   "metadata": {},
   "outputs": [],
   "source": []
  },
  {
   "cell_type": "code",
   "execution_count": null,
   "id": "96a9be2d-c43d-4a2e-bdd7-7cbdce70c284",
   "metadata": {},
   "outputs": [],
   "source": []
  },
  {
   "cell_type": "code",
   "execution_count": null,
   "id": "156fed73-6963-4ec4-b8bd-130f5be2f875",
   "metadata": {},
   "outputs": [],
   "source": []
  },
  {
   "cell_type": "code",
   "execution_count": null,
   "id": "e63d2304-4144-4c68-b369-0ee2a85cea6b",
   "metadata": {},
   "outputs": [],
   "source": []
  },
  {
   "cell_type": "code",
   "execution_count": null,
   "id": "9d746937-98d3-4a45-9afa-0b80e07abfbd",
   "metadata": {},
   "outputs": [],
   "source": []
  },
  {
   "cell_type": "code",
   "execution_count": null,
   "id": "4580cd9a-b648-40bd-b278-40c1b354d5ef",
   "metadata": {},
   "outputs": [],
   "source": []
  },
  {
   "cell_type": "code",
   "execution_count": null,
   "id": "ece38634-1d67-4c6f-87ca-647977012219",
   "metadata": {},
   "outputs": [],
   "source": []
  },
  {
   "cell_type": "code",
   "execution_count": null,
   "id": "6c3b2ab8-3723-4e22-aae1-cb82846c0e51",
   "metadata": {},
   "outputs": [],
   "source": []
  },
  {
   "cell_type": "code",
   "execution_count": null,
   "id": "44c31034-88fa-42fa-9a01-7152066950a0",
   "metadata": {},
   "outputs": [],
   "source": []
  },
  {
   "cell_type": "code",
   "execution_count": null,
   "id": "0a72f9ef-39f1-43b4-bd76-9f6c180e0c83",
   "metadata": {},
   "outputs": [],
   "source": []
  },
  {
   "cell_type": "code",
   "execution_count": null,
   "id": "4bd54a39-915d-4cfb-9c1a-89dfaa813027",
   "metadata": {},
   "outputs": [],
   "source": []
  },
  {
   "cell_type": "code",
   "execution_count": null,
   "id": "41f50577-37e3-4689-9a82-3bb68d5487a0",
   "metadata": {},
   "outputs": [],
   "source": []
  },
  {
   "cell_type": "code",
   "execution_count": null,
   "id": "58acfc79-dfc9-4c0e-852f-a710fe0c09d9",
   "metadata": {},
   "outputs": [],
   "source": []
  },
  {
   "cell_type": "code",
   "execution_count": null,
   "id": "d884b7e4-7eaa-4e07-8fb4-f457af60fdd7",
   "metadata": {},
   "outputs": [],
   "source": []
  },
  {
   "cell_type": "code",
   "execution_count": null,
   "id": "e2cd0d09-a17b-4d51-acda-d0cf82b75a46",
   "metadata": {},
   "outputs": [],
   "source": []
  },
  {
   "cell_type": "code",
   "execution_count": null,
   "id": "df1fc739-5a59-4231-8077-f0bd6bcf9f37",
   "metadata": {},
   "outputs": [],
   "source": []
  },
  {
   "cell_type": "code",
   "execution_count": null,
   "id": "ee12b1aa-313c-4d03-9238-729533d3bf44",
   "metadata": {},
   "outputs": [],
   "source": []
  }
 ],
 "metadata": {
  "kernelspec": {
   "display_name": "Python 3 (ipykernel)",
   "language": "python",
   "name": "python3"
  },
  "language_info": {
   "codemirror_mode": {
    "name": "ipython",
    "version": 3
   },
   "file_extension": ".py",
   "mimetype": "text/x-python",
   "name": "python",
   "nbconvert_exporter": "python",
   "pygments_lexer": "ipython3",
   "version": "3.9.10"
  }
 },
 "nbformat": 4,
 "nbformat_minor": 5
}
