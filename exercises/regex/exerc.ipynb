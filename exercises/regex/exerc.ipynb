{
 "cells": [
  {
   "cell_type": "markdown",
   "id": "be5962d9-7785-4870-9eee-daa65af83b62",
   "metadata": {},
   "source": [
    "    1. Write a Python program to check that a string contains only a certain set of characters (in this case a-z, A-Z and 0-9)."
   ]
  },
  {
   "cell_type": "code",
   "execution_count": 2,
   "id": "ba494763-6a1c-4afa-b4ef-1a2c21833954",
   "metadata": {},
   "outputs": [
    {
     "data": {
      "text/plain": [
       "['diego', '12212', 'diego']"
      ]
     },
     "execution_count": 2,
     "metadata": {},
     "output_type": "execute_result"
    }
   ],
   "source": [
    "text = 'diego 12212 @@@... diego'\n",
    "import re\n",
    "instance = re.compile(r'[a-zA-Z0-9]+')\n",
    "instance.findall(text)"
   ]
  },
  {
   "cell_type": "markdown",
   "id": "d9e372ac-ea9c-4066-acc0-12158d27946f",
   "metadata": {},
   "source": [
    "    2. Write a Python program that matches a string that has an a followed by zero or more b's."
   ]
  },
  {
   "cell_type": "code",
   "execution_count": null,
   "id": "e2cd0d09-a17b-4d51-acda-d0cf82b75a46",
   "metadata": {},
   "outputs": [],
   "source": []
  },
  {
   "cell_type": "markdown",
   "id": "d57fe7f2-b860-45e7-9cb5-0b2339adcfb1",
   "metadata": {},
   "source": [
    "    3. Write a Python program that matches a string that has an a followed by one or more b's."
   ]
  },
  {
   "cell_type": "code",
   "execution_count": null,
   "id": "ee12b1aa-313c-4d03-9238-729533d3bf44",
   "metadata": {},
   "outputs": [],
   "source": []
  },
  {
   "cell_type": "markdown",
   "id": "9515bd36-2193-4d7e-a735-5f435f2f6315",
   "metadata": {},
   "source": [
    "    4. Write a Python program that matches a string that has an a followed by zero or one 'b'."
   ]
  },
  {
   "cell_type": "code",
   "execution_count": null,
   "id": "b9fde2c7-d942-4567-8073-260d1c77a4c5",
   "metadata": {},
   "outputs": [],
   "source": []
  },
  {
   "cell_type": "markdown",
   "id": "8a0dadf3-8c94-41a9-86f5-73b9e8236de7",
   "metadata": {},
   "source": [
    "    5. Write a Python program that matches a string that has an a followed by three 'b'."
   ]
  },
  {
   "cell_type": "code",
   "execution_count": null,
   "id": "ffd2505a-77b0-44cd-9120-80aa06ad3311",
   "metadata": {},
   "outputs": [],
   "source": []
  },
  {
   "cell_type": "markdown",
   "id": "c455bde5-d03e-4a96-b9ea-45fd57f9cc79",
   "metadata": {},
   "source": [
    "    6. Write a Python program that matches a string that has an a followed by two to three 'b'."
   ]
  },
  {
   "cell_type": "code",
   "execution_count": null,
   "id": "029ce7e2-0690-4eb5-9a94-78c728ffe427",
   "metadata": {},
   "outputs": [],
   "source": []
  },
  {
   "cell_type": "markdown",
   "id": "425185c4-7dd9-43e1-bda1-f45ed43fe933",
   "metadata": {},
   "source": [
    "    7. Write a Python program to find sequences of lowercase letters joined with a underscore."
   ]
  },
  {
   "cell_type": "code",
   "execution_count": null,
   "id": "d46d19eb-2348-4c42-b512-60c3b7bbf62e",
   "metadata": {},
   "outputs": [],
   "source": []
  },
  {
   "cell_type": "markdown",
   "id": "b168dcde-9813-49b1-b118-900cddec874f",
   "metadata": {},
   "source": [
    "    8. Write a Python program to find the sequences of one upper case letter followed by lower case letters."
   ]
  },
  {
   "cell_type": "code",
   "execution_count": null,
   "id": "b76d8a33-70fd-471e-8cca-f776f00df24d",
   "metadata": {},
   "outputs": [],
   "source": []
  },
  {
   "cell_type": "markdown",
   "id": "9bfbc822-1f47-419a-afd4-86231b7056d8",
   "metadata": {},
   "source": [
    "    9. Write a Python program that matches a string that has an 'a' followed by anything, ending in 'b'."
   ]
  },
  {
   "cell_type": "code",
   "execution_count": null,
   "id": "e7ce4d11-35f5-4c9c-950a-2eeefdceab7f",
   "metadata": {},
   "outputs": [],
   "source": []
  },
  {
   "cell_type": "markdown",
   "id": "ff837c21-22ce-4b49-8f48-5ea9e4ae1109",
   "metadata": {},
   "source": [
    "    10. Write a Python program that matches a word at the beginning of a string."
   ]
  },
  {
   "cell_type": "code",
   "execution_count": null,
   "id": "9cabb314-2d93-40fc-96f8-182c65ffd5c4",
   "metadata": {},
   "outputs": [],
   "source": []
  },
  {
   "cell_type": "markdown",
   "id": "e2bde0b5-531b-4b23-b0f6-eb3a926c0cf2",
   "metadata": {},
   "source": [
    "    10. Write a Python program that matches a word at the beginning of a string."
   ]
  },
  {
   "cell_type": "code",
   "execution_count": null,
   "id": "d79e60c3-e68e-4af9-8631-0593eaaffbe7",
   "metadata": {},
   "outputs": [],
   "source": []
  },
  {
   "cell_type": "markdown",
   "id": "a7bb6920-e541-4d1b-a6a1-f946dfdb93f9",
   "metadata": {},
   "source": [
    "    11. Write a Python program that matches a word at the end of string, with optional punctuation. Go to the editor"
   ]
  },
  {
   "cell_type": "code",
   "execution_count": null,
   "id": "59529c7b-ccbf-401a-a517-47475d1fe5e7",
   "metadata": {},
   "outputs": [],
   "source": []
  },
  {
   "cell_type": "markdown",
   "id": "d107cd68-8ba1-4d69-87da-1ab7668897bf",
   "metadata": {},
   "source": [
    "    12. Write a Python program that matches a word containing 'z'. Go to the editor"
   ]
  },
  {
   "cell_type": "code",
   "execution_count": null,
   "id": "68262021-c977-4b45-8521-1922ece6c957",
   "metadata": {},
   "outputs": [],
   "source": []
  },
  {
   "cell_type": "markdown",
   "id": "5ccf3a87-72ec-4896-a42f-3f8705c7759f",
   "metadata": {},
   "source": [
    "    13. Write a Python program that matches a word containing 'z', not at the start or end of the word."
   ]
  },
  {
   "cell_type": "code",
   "execution_count": null,
   "id": "603c92c5-d229-4843-b456-e7f9b3cc0ef8",
   "metadata": {},
   "outputs": [],
   "source": []
  },
  {
   "cell_type": "markdown",
   "id": "1815021b-3fd9-49b7-a227-d583d0a73aff",
   "metadata": {},
   "source": [
    "    14. Write a Python program to match a string that contains only upper and lowercase letters, numbers, and underscores. Go to the editor\n",
    "\n",
    "    Click me to see the solution"
   ]
  },
  {
   "cell_type": "code",
   "execution_count": null,
   "id": "a617f2e2-68a4-45ef-aaed-f60a8ea8ab08",
   "metadata": {},
   "outputs": [],
   "source": []
  },
  {
   "cell_type": "markdown",
   "id": "41cac2a4-869a-4ae1-92ad-a6888f961d05",
   "metadata": {},
   "source": [
    "    15. Write a Python program where a string will start with a specific number. Go to the editor\n",
    "\n",
    "    Click me to see the solution"
   ]
  },
  {
   "cell_type": "code",
   "execution_count": null,
   "id": "fa798c75-10fc-4456-9f1a-745f160b5c18",
   "metadata": {},
   "outputs": [],
   "source": []
  },
  {
   "cell_type": "markdown",
   "id": "41013cb0-2c88-491a-924c-e472a95db168",
   "metadata": {},
   "source": [
    "    16. Write a Python program to remove leading zeros from an IP address."
   ]
  },
  {
   "cell_type": "code",
   "execution_count": null,
   "id": "e273faa6-f7d2-4cc5-aab6-f99afdfa33fe",
   "metadata": {},
   "outputs": [],
   "source": []
  },
  {
   "cell_type": "markdown",
   "id": "ecd20cd5-6370-4c0f-81d1-1dcac0575d71",
   "metadata": {},
   "source": [
    "    17. Write a Python program to check for a number at the end of a string. Go to the editor"
   ]
  },
  {
   "cell_type": "code",
   "execution_count": null,
   "id": "db9d6252-c8bd-43b5-9bf5-d43a0bc32cd9",
   "metadata": {},
   "outputs": [],
   "source": []
  },
  {
   "cell_type": "markdown",
   "id": "d22c6980-e9af-432a-b61c-d1532bfaf46c",
   "metadata": {},
   "source": [
    "    18. Write a Python program to search the numbers (0-9) of length between 1 to 3 in a given string.\n",
    "    \"Exercises number 1, 12, 13, and 345 are important\""
   ]
  },
  {
   "cell_type": "code",
   "execution_count": null,
   "id": "20d0cda9-3700-490c-b9f3-7c47dbea7aa6",
   "metadata": {},
   "outputs": [],
   "source": []
  },
  {
   "cell_type": "markdown",
   "id": "9319c832-ed36-4ff7-8eb6-09567a786454",
   "metadata": {},
   "source": [
    "    19. Write a Python program to search some literals strings in a string.\n",
    "    Sample text : 'The quick brown fox jumps over the lazy dog.'\n",
    "    Searched words : 'fox', 'dog', 'horse'"
   ]
  },
  {
   "cell_type": "code",
   "execution_count": null,
   "id": "da989de4-c7b3-457a-ab67-8771f49d040b",
   "metadata": {},
   "outputs": [],
   "source": []
  },
  {
   "cell_type": "markdown",
   "id": "143c0492-bda3-4666-8fd2-f6961c1f4e07",
   "metadata": {},
   "source": [
    "    20. Write a Python program to search a literals string in a string and also find the location within the original string where the pattern occurs.\n",
    "\n",
    "    Sample text : 'The quick brown fox jumps over the lazy dog.'\n",
    "    Searched words : 'fox'"
   ]
  },
  {
   "cell_type": "code",
   "execution_count": null,
   "id": "5ae84917-e0db-49a0-9f62-8e32b3c9e263",
   "metadata": {},
   "outputs": [],
   "source": []
  },
  {
   "cell_type": "markdown",
   "id": "62d7d5f2-ca08-4699-b54c-439f5d264b39",
   "metadata": {},
   "source": [
    "    21. Write a Python program to find the substrings within a string.\n",
    "    Sample text :\n",
    "    'Python exercises, PHP exercises, C# exercises'\n",
    "    Pattern :\n",
    "    'exercises'\n",
    "    Note: There are two instances of exercises in the input string."
   ]
  },
  {
   "cell_type": "code",
   "execution_count": null,
   "id": "7344b60d-a934-4ccc-86ea-88241fd9b8ef",
   "metadata": {},
   "outputs": [],
   "source": []
  },
  {
   "cell_type": "markdown",
   "id": "631dedfe-39fe-4f9c-b08a-535eb61b3616",
   "metadata": {},
   "source": [
    "    22. Write a Python program to find the occurrence and position of the substrings within a string."
   ]
  },
  {
   "cell_type": "code",
   "execution_count": null,
   "id": "4616ae97-7c88-4dc1-ad94-3bd3dfb2a08b",
   "metadata": {},
   "outputs": [],
   "source": []
  },
  {
   "cell_type": "markdown",
   "id": "6f2f06ca-482b-4f9c-aba0-7a38ebafafe7",
   "metadata": {},
   "source": [
    "    23. Write a Python program to replace whitespaces with an underscore and vice versa."
   ]
  },
  {
   "cell_type": "code",
   "execution_count": null,
   "id": "aa5a7e33-26b7-4e89-9c06-7b7432e1fc0d",
   "metadata": {},
   "outputs": [],
   "source": []
  },
  {
   "cell_type": "markdown",
   "id": "37ceffdd-4852-4ef9-ae0c-d3d6d77c45a6",
   "metadata": {},
   "source": [
    "    24. Write a Python program to extract year, month and date from an url."
   ]
  },
  {
   "cell_type": "code",
   "execution_count": null,
   "id": "ddd74298-2097-43b9-ab39-bd6d2e6355b8",
   "metadata": {},
   "outputs": [],
   "source": []
  },
  {
   "cell_type": "markdown",
   "id": "74c13d35-b9a3-4b6e-9d94-9657e7f86111",
   "metadata": {},
   "source": [
    "    25. Write a Python program to convert a date of yyyy-mm-dd format to dd-mm-yyyy format."
   ]
  },
  {
   "cell_type": "code",
   "execution_count": null,
   "id": "859ebaeb-d4e6-46b1-a938-5c2720f613fa",
   "metadata": {},
   "outputs": [],
   "source": []
  },
  {
   "cell_type": "markdown",
   "id": "e0f53aa9-101e-4fd2-896c-fcd10ed1edb3",
   "metadata": {},
   "source": [
    "    26. Write a Python program to match if two words from a list of words starting with letter 'P'. "
   ]
  },
  {
   "cell_type": "code",
   "execution_count": null,
   "id": "afe3ab12-e0b0-4cce-aff8-b4919016acf2",
   "metadata": {},
   "outputs": [],
   "source": []
  },
  {
   "cell_type": "markdown",
   "id": "07afc13c-4c59-4f66-974d-4a073aa7511f",
   "metadata": {},
   "source": [
    "    27. Write a Python program to separate and print the numbers of a given string."
   ]
  },
  {
   "cell_type": "code",
   "execution_count": null,
   "id": "e3281b6c-97f8-4914-a23e-c18f1ce70a6f",
   "metadata": {},
   "outputs": [],
   "source": []
  },
  {
   "cell_type": "markdown",
   "id": "e1b23141-b27b-401f-b3a7-87c90e4864bf",
   "metadata": {},
   "source": [
    "    28. Write a Python program to find all words starting with 'a' or 'e' in a given string."
   ]
  },
  {
   "cell_type": "code",
   "execution_count": null,
   "id": "9b4313b6-c87e-4847-8541-322434761e6e",
   "metadata": {},
   "outputs": [],
   "source": []
  },
  {
   "cell_type": "markdown",
   "id": "282e492f-fc86-42f4-9ef9-df2a5fba6a40",
   "metadata": {},
   "source": [
    "    29. Write a Python program to separate and print the numbers and their position of a given string."
   ]
  },
  {
   "cell_type": "code",
   "execution_count": null,
   "id": "9cd71f2f-4e61-4361-8eae-b35d84750bdd",
   "metadata": {},
   "outputs": [],
   "source": []
  },
  {
   "cell_type": "markdown",
   "id": "6474ab3a-f7ea-4d68-8419-655a5940a96b",
   "metadata": {},
   "source": [
    "    30. Write a Python program to abbreviate 'Road' as 'Rd.' in a given string."
   ]
  },
  {
   "cell_type": "code",
   "execution_count": null,
   "id": "ecd0706a-0205-4ebf-b98d-dd0f8a55d3fc",
   "metadata": {},
   "outputs": [],
   "source": []
  },
  {
   "cell_type": "markdown",
   "id": "585c21f4-d721-4913-8c27-888539dc94bf",
   "metadata": {},
   "source": [
    "    31. Write a Python program to replace all occurrences of space, comma, or dot with a colon."
   ]
  },
  {
   "cell_type": "code",
   "execution_count": null,
   "id": "92f96912-8951-4d7d-aa8b-296d2bc9ca61",
   "metadata": {},
   "outputs": [],
   "source": []
  },
  {
   "cell_type": "markdown",
   "id": "871aaa00-80f2-489b-ad25-663d8f2b7190",
   "metadata": {},
   "source": [
    "    32. Write a Python program to replace maximum 2 occurrences of space, comma, or dot with a colon."
   ]
  },
  {
   "cell_type": "code",
   "execution_count": null,
   "id": "ff7301c7-955a-4098-9e4d-ae218c398aa2",
   "metadata": {},
   "outputs": [],
   "source": []
  },
  {
   "cell_type": "markdown",
   "id": "e581c973-4217-490f-afaa-4f72b5d09a5f",
   "metadata": {},
   "source": [
    "    33. Write a Python program to find all five characters long word in a string."
   ]
  },
  {
   "cell_type": "code",
   "execution_count": null,
   "id": "e6469708-2e74-4bf0-ab83-d5315afdf3de",
   "metadata": {},
   "outputs": [],
   "source": []
  },
  {
   "cell_type": "markdown",
   "id": "0f79c236-4fcc-4ede-842f-9f65b548c7a6",
   "metadata": {},
   "source": [
    "    34. Write a Python program to find all three, four, five characters long words in a string."
   ]
  },
  {
   "cell_type": "code",
   "execution_count": null,
   "id": "fa2e6ced-016a-4dad-9157-783d460ca15a",
   "metadata": {},
   "outputs": [],
   "source": []
  },
  {
   "cell_type": "markdown",
   "id": "206781fc-1514-4fdd-9292-353313108851",
   "metadata": {},
   "source": [
    "    35. Write a Python program to find all words which are at least 4 characters long in a string."
   ]
  },
  {
   "cell_type": "code",
   "execution_count": null,
   "id": "054ed363-ac53-42f7-bb35-6cc1f1e3da01",
   "metadata": {},
   "outputs": [],
   "source": []
  },
  {
   "cell_type": "markdown",
   "id": "2cb87eea-61a1-492d-ac0f-2c27a06bae49",
   "metadata": {},
   "source": [
    "    36. Write a python program to convert camel case string to snake case string."
   ]
  },
  {
   "cell_type": "code",
   "execution_count": null,
   "id": "347e93c7-2d91-4f3e-8aa4-232d836230f5",
   "metadata": {},
   "outputs": [],
   "source": []
  },
  {
   "cell_type": "markdown",
   "id": "3edf414e-d9f8-4c43-ab21-3b8d8989e37b",
   "metadata": {},
   "source": [
    "    37. Write a python program to convert snake case string to camel case string."
   ]
  },
  {
   "cell_type": "code",
   "execution_count": null,
   "id": "b6e1469a-2302-47c9-966c-ba3949fe931a",
   "metadata": {},
   "outputs": [],
   "source": []
  },
  {
   "cell_type": "markdown",
   "id": "0982f18a-043c-4ce0-866e-d2dedcf4488f",
   "metadata": {},
   "source": [
    "    38. Write a Python program to extract values between quotation marks of a string. "
   ]
  },
  {
   "cell_type": "code",
   "execution_count": null,
   "id": "b4e7f054-dc4c-4521-a1db-0b182fb8b2f9",
   "metadata": {},
   "outputs": [],
   "source": []
  },
  {
   "cell_type": "markdown",
   "id": "8e9fc207-0ad3-4f64-8260-c405dbbdc544",
   "metadata": {},
   "source": [
    "    39. Write a Python program to remove multiple spaces in a string. \n",
    "    "
   ]
  },
  {
   "cell_type": "code",
   "execution_count": null,
   "id": "e98f4105-f73b-4c11-8338-e87c57c49d3f",
   "metadata": {},
   "outputs": [],
   "source": []
  },
  {
   "cell_type": "markdown",
   "id": "9f598a5e-d1ef-4cc9-ae09-8af74297b70d",
   "metadata": {},
   "source": [
    "    40. Write a Python program to remove all whitespaces from a string. "
   ]
  },
  {
   "cell_type": "code",
   "execution_count": null,
   "id": "62881bf3-c5eb-4c96-ad61-045d9217b425",
   "metadata": {},
   "outputs": [],
   "source": []
  },
  {
   "cell_type": "markdown",
   "id": "ef6d43a6-5dfa-4aa4-a720-69966eacadc5",
   "metadata": {},
   "source": [
    "    41. Write a Python program to remove everything except alphanumeric characters from a string. "
   ]
  },
  {
   "cell_type": "code",
   "execution_count": null,
   "id": "8640ff04-e6bf-4787-94dd-2d47fa965c48",
   "metadata": {},
   "outputs": [],
   "source": []
  },
  {
   "cell_type": "markdown",
   "id": "854f47af-ea0b-4e09-876c-f502514c9509",
   "metadata": {},
   "source": [
    "    42. Write a Python program to find urls in a string. "
   ]
  },
  {
   "cell_type": "code",
   "execution_count": null,
   "id": "c6037c30-7f5b-4667-a181-0e1791b7e57e",
   "metadata": {},
   "outputs": [],
   "source": []
  },
  {
   "cell_type": "markdown",
   "id": "649647aa-0b6a-4010-ac2c-405db23a6f16",
   "metadata": {},
   "source": [
    "    43. Write a Python program to split a string at uppercase letters. "
   ]
  },
  {
   "cell_type": "code",
   "execution_count": null,
   "id": "f92da6b4-69d9-4f97-893c-bd0dfaab1a65",
   "metadata": {},
   "outputs": [],
   "source": []
  },
  {
   "cell_type": "markdown",
   "id": "2d337468-6f4f-429e-bc81-f25348db5f4f",
   "metadata": {},
   "source": [
    "    44. Write a Python program to do a case-insensitive string replacement."
   ]
  },
  {
   "cell_type": "markdown",
   "id": "d4b4e438-92fb-434b-8eb7-acab85d50589",
   "metadata": {},
   "source": [
    "    45. Write a Python program to remove the ANSI escape sequences from a string. "
   ]
  },
  {
   "cell_type": "markdown",
   "id": "8b5271d3-b29f-46ba-9b81-d09ad9550b2c",
   "metadata": {},
   "source": [
    "    46. Write a Python program to find all adverbs and their positions in a given sentence.\n",
    "    Sample text : \"Clearly, he has no excuse for such behavior.\""
   ]
  },
  {
   "cell_type": "markdown",
   "id": "e4e86d19-c74f-4f56-8443-4c770715dc14",
   "metadata": {},
   "source": [
    "    47. Write a Python program to split a string with multiple delimiters.\n",
    "    Note : A delimiter is a sequence of one or more characters used to specify the boundary between separate, independent regions in plain text or other data streams. An example of a delimiter is the comma character, which acts as a field delimiter in a sequence of comma-separated values."
   ]
  },
  {
   "cell_type": "markdown",
   "id": "e7c12c20-4384-4e89-9b2e-c7fd19522ed7",
   "metadata": {},
   "source": [
    "    48. Write a Python program to check a decimal with a precision of 2."
   ]
  },
  {
   "cell_type": "markdown",
   "id": "77020fa6-c949-46c8-95f3-52cdf5c58866",
   "metadata": {},
   "source": [
    "    49. Write a Python program to remove words from a string of length between 1 and a given number."
   ]
  },
  {
   "cell_type": "markdown",
   "id": "f6054ec2-8332-4b93-b6a6-c652b5a434ee",
   "metadata": {},
   "source": [
    "    50. Write a Python program to remove the parenthesis area in a string.\n",
    "    Sample data : [\"example (.com)\", \"w3resource\", \"github (.com)\", \"stackoverflow (.com)\"]\n",
    "    Expected Output:\n",
    "    example\n",
    "    w3resource\n",
    "    github\n",
    "    stackoverflow"
   ]
  },
  {
   "cell_type": "markdown",
   "id": "40762aeb-99e3-4ea9-a435-8b1e04671748",
   "metadata": {},
   "source": [
    "    51. Write a Python program to insert spaces between words starting with capital letters."
   ]
  },
  {
   "cell_type": "markdown",
   "id": "b9ed2519-50a7-4303-9cd9-4e906dcd3dd3",
   "metadata": {},
   "source": [
    "    52. Write a Python program that reads a given expression and evaluates it. Go to the editor\n",
    "    Terms and conditions:\n",
    "    The expression consists of numerical values, operators and parentheses, and the ends with '='.\n",
    "    The operators includes +, -, *, / where, represents, addition, subtraction, multiplication and division.\n",
    "    When two operators have the same precedence, they are applied to left to right.\n",
    "    You may assume that there is no division by zero.\n",
    "    All calculation is performed as integers, and after the decimal point should be truncated Length of the expression will not exceed 100.\n",
    "    -1 ? 10 9 = intermediate results of computation = 10 9\n",
    "    Click me to see the solution"
   ]
  },
  {
   "cell_type": "markdown",
   "id": "c5e41386-a446-4566-b205-265de924aedc",
   "metadata": {},
   "source": [
    "    53. Write a Python program to remove lowercase substrings from a given string. Go to the editor\n",
    "    Click me to see the solution"
   ]
  },
  {
   "cell_type": "markdown",
   "id": "8923c1e5-de5c-4c5a-a16d-89b191975b58",
   "metadata": {},
   "source": [
    "    54. Write a Python program to concatenate the consecutive numbers in a given string. Go to the editor\n",
    "    Original string:\n",
    "    Enter at 1 20 Kearny Street. The security desk can direct you to floor 1 6. Please have your identification ready.\n",
    "    After concatenating the consecutive numbers in the said string:\n",
    "    Enter at 120 Kearny Street. The security desk can direct you to floor 16. Please have your identification ready."
   ]
  },
  {
   "cell_type": "markdown",
   "id": "e4027e3f-81e4-4e9e-bfe2-ec0e2778a15c",
   "metadata": {},
   "source": [
    "    55. Write a Python program to convert a given string to snake case.\n",
    "    Sample Output:\n",
    "    java-script\n",
    "    gd-script\n",
    "    btw...-what-*-do*-you-call-that-naming-style?-snake-case?"
   ]
  },
  {
   "cell_type": "markdown",
   "id": "b67c549a-f343-41e7-b845-d23c4f6e3108",
   "metadata": {},
   "source": [
    "    56. Write a Python program that takes any number of iterable objects or objects with a length property and returns the longest one.\n",
    "    Sample Output:\n",
    "    Orange\n",
    "    [1, 2, 3, 4, 5]\n",
    "    Java\n",
    "    Python"
   ]
  },
  {
   "cell_type": "code",
   "execution_count": null,
   "id": "82d89e11-b0ba-4daf-92a2-3de75021c93c",
   "metadata": {},
   "outputs": [],
   "source": []
  },
  {
   "cell_type": "markdown",
   "id": "9be5f295-6497-4d1f-aae2-3e24f22bc18e",
   "metadata": {},
   "source": []
  },
  {
   "cell_type": "markdown",
   "id": "a0250305-b95e-482e-b867-38fcfadd6e74",
   "metadata": {},
   "source": []
  },
  {
   "cell_type": "markdown",
   "id": "f261a1e6-9652-4720-a4df-1dda73e1ac04",
   "metadata": {},
   "source": []
  }
 ],
 "metadata": {
  "kernelspec": {
   "display_name": "Python 3 (ipykernel)",
   "language": "python",
   "name": "python3"
  },
  "language_info": {
   "codemirror_mode": {
    "name": "ipython",
    "version": 3
   },
   "file_extension": ".py",
   "mimetype": "text/x-python",
   "name": "python",
   "nbconvert_exporter": "python",
   "pygments_lexer": "ipython3",
   "version": "3.9.10"
  }
 },
 "nbformat": 4,
 "nbformat_minor": 5
}
