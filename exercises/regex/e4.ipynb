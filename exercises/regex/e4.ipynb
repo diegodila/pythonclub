{
 "cells": [
  {
   "cell_type": "markdown",
   "id": "b9438482-38e9-4add-a956-a33433dd9f2b",
   "metadata": {},
   "source": [
    "Write a Python program which accepts the radius of a circle from the user and compute the area  \n",
    "Sample Output :\n",
    "r = 1.1\n",
    "Area = 3.8013271108436504"
   ]
  },
  {
   "cell_type": "code",
   "execution_count": 5,
   "id": "2c36d01b-f8f0-4ddf-a763-53ddc965e04c",
   "metadata": {},
   "outputs": [],
   "source": [
    "from math import pi"
   ]
  },
  {
   "cell_type": "code",
   "execution_count": null,
   "id": "45ff5554-90f8-4681-bfb2-433fa8738516",
   "metadata": {},
   "outputs": [],
   "source": []
  },
  {
   "cell_type": "code",
   "execution_count": null,
   "id": "a3bf9fed-2517-4946-93c8-3b42263fef0d",
   "metadata": {},
   "outputs": [],
   "source": []
  }
 ],
 "metadata": {
  "kernelspec": {
   "display_name": "Python 3 (ipykernel)",
   "language": "python",
   "name": "python3"
  },
  "language_info": {
   "codemirror_mode": {
    "name": "ipython",
    "version": 3
   },
   "file_extension": ".py",
   "mimetype": "text/x-python",
   "name": "python",
   "nbconvert_exporter": "python",
   "pygments_lexer": "ipython3",
   "version": "3.9.10"
  }
 },
 "nbformat": 4,
 "nbformat_minor": 5
}
