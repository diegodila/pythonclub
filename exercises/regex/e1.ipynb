{
 "cells": [
  {
   "cell_type": "markdown",
   "id": "be5962d9-7785-4870-9eee-daa65af83b62",
   "metadata": {},
   "source": [
    "Write a Python program to check that a string contains only a certain set of characters (in this case a-z, A-Z and 0-9)."
   ]
  },
  {
   "cell_type": "code",
   "execution_count": 1,
   "id": "ba494763-6a1c-4afa-b4ef-1a2c21833954",
   "metadata": {},
   "outputs": [],
   "source": [
    "text = 'diego 12212 @@@... diego'"
   ]
  },
  {
   "cell_type": "code",
   "execution_count": 6,
   "id": "d884b7e4-7eaa-4e07-8fb4-f457af60fdd7",
   "metadata": {},
   "outputs": [],
   "source": [
    "import re\n",
    "instance = re.compile(r'[a-zA-Z0-9]+')"
   ]
  },
  {
   "cell_type": "code",
   "execution_count": 7,
   "id": "e2cd0d09-a17b-4d51-acda-d0cf82b75a46",
   "metadata": {},
   "outputs": [
    {
     "data": {
      "text/plain": [
       "['diego', '12212', 'diego']"
      ]
     },
     "execution_count": 7,
     "metadata": {},
     "output_type": "execute_result"
    }
   ],
   "source": [
    "instance.findall(text)"
   ]
  },
  {
   "cell_type": "code",
   "execution_count": null,
   "id": "df1fc739-5a59-4231-8077-f0bd6bcf9f37",
   "metadata": {},
   "outputs": [],
   "source": []
  },
  {
   "cell_type": "code",
   "execution_count": null,
   "id": "ee12b1aa-313c-4d03-9238-729533d3bf44",
   "metadata": {},
   "outputs": [],
   "source": []
  }
 ],
 "metadata": {
  "kernelspec": {
   "display_name": "Python 3 (ipykernel)",
   "language": "python",
   "name": "python3"
  },
  "language_info": {
   "codemirror_mode": {
    "name": "ipython",
    "version": 3
   },
   "file_extension": ".py",
   "mimetype": "text/x-python",
   "name": "python",
   "nbconvert_exporter": "python",
   "pygments_lexer": "ipython3",
   "version": "3.9.10"
  }
 },
 "nbformat": 4,
 "nbformat_minor": 5
}
