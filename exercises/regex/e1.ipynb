{
 "cells": [
  {
   "cell_type": "markdown",
   "id": "be5962d9-7785-4870-9eee-daa65af83b62",
   "metadata": {},
   "source": [
    "    1. Write a Python program to check that a string contains only a certain set of characters (in this case a-z, A-Z and 0-9)."
   ]
  },
  {
   "cell_type": "code",
   "execution_count": 2,
   "id": "ba494763-6a1c-4afa-b4ef-1a2c21833954",
   "metadata": {},
   "outputs": [
    {
     "data": {
      "text/plain": [
       "['diego', '12212', 'diego']"
      ]
     },
     "execution_count": 2,
     "metadata": {},
     "output_type": "execute_result"
    }
   ],
   "source": [
    "text = 'diego 12212 @@@... diego'\n",
    "import re\n",
    "instance = re.compile(r'[a-zA-Z0-9]+')\n",
    "instance.findall(text)"
   ]
  },
  {
   "cell_type": "markdown",
   "id": "d9e372ac-ea9c-4066-acc0-12158d27946f",
   "metadata": {},
   "source": [
    "    2. Write a Python program that matches a string that has an a followed by zero or more b's."
   ]
  },
  {
   "cell_type": "code",
   "execution_count": null,
   "id": "e2cd0d09-a17b-4d51-acda-d0cf82b75a46",
   "metadata": {},
   "outputs": [],
   "source": []
  },
  {
   "cell_type": "markdown",
   "id": "d57fe7f2-b860-45e7-9cb5-0b2339adcfb1",
   "metadata": {},
   "source": [
    "    3. Write a Python program that matches a string that has an a followed by one or more b's."
   ]
  },
  {
   "cell_type": "code",
   "execution_count": null,
   "id": "ee12b1aa-313c-4d03-9238-729533d3bf44",
   "metadata": {},
   "outputs": [],
   "source": []
  },
  {
   "cell_type": "markdown",
   "id": "9515bd36-2193-4d7e-a735-5f435f2f6315",
   "metadata": {},
   "source": [
    "    4. Write a Python program that matches a string that has an a followed by zero or one 'b'."
   ]
  },
  {
   "cell_type": "code",
   "execution_count": null,
   "id": "b032539a-ee69-431e-8e4c-fdad40a1bee6",
   "metadata": {},
   "outputs": [],
   "source": []
  },
  {
   "cell_type": "code",
   "execution_count": null,
   "id": "86051cff-378d-4825-8880-27c3b8985255",
   "metadata": {},
   "outputs": [],
   "source": []
  },
  {
   "cell_type": "code",
   "execution_count": null,
   "id": "095faed4-44bd-433b-bfe1-3bee8af0c214",
   "metadata": {},
   "outputs": [],
   "source": []
  },
  {
   "cell_type": "code",
   "execution_count": null,
   "id": "9e0b1e55-f54b-4b5f-bfb4-8ccd5ee5f437",
   "metadata": {},
   "outputs": [],
   "source": []
  }
 ],
 "metadata": {
  "kernelspec": {
   "display_name": "Python 3 (ipykernel)",
   "language": "python",
   "name": "python3"
  },
  "language_info": {
   "codemirror_mode": {
    "name": "ipython",
    "version": 3
   },
   "file_extension": ".py",
   "mimetype": "text/x-python",
   "name": "python",
   "nbconvert_exporter": "python",
   "pygments_lexer": "ipython3",
   "version": "3.9.10"
  }
 },
 "nbformat": 4,
 "nbformat_minor": 5
}
