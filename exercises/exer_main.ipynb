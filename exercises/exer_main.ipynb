{
 "cells": [
  {
   "cell_type": "code",
   "execution_count": 1,
   "metadata": {},
   "outputs": [],
   "source": [
    "class A:\n",
    "    def __init__(self,atributo_a):\n",
    "        self.atributo_a = atributo_a\n",
    "\n",
    "    def metodo_de_heranca(self,param):\n",
    "        print(f'O metodo da classe A e o parametro: {param}')\n",
    "\n",
    "class B(A):\n",
    "    def __init__(self,atributo_b):\n",
    "        self.atributo_b = atributo_b\n",
    "\n",
    "    def metodo_de_heranca(self,param):\n",
    "        print(f'Metodo dentro da classe B e parametro: {param}')\n",
    "\n",
    "class C(B):\n",
    "    def __init__(self,atributo_c):\n",
    "        self.atributo_c = atributo_c\n",
    "\n",
    "\n",
    "    def metodo_de_heranca(self,param):\n",
    "        return super(B,self).metodo_de_heranca(param)"
   ]
  },
  {
   "cell_type": "code",
   "execution_count": 4,
   "metadata": {},
   "outputs": [
    {
     "name": "stdout",
     "output_type": "stream",
     "text": [
      "D\n",
      "[<class '__main__.D'>, <class '__main__.B'>, <class '__main__.C'>, <class '__main__.A'>, <class 'object'>]\n"
     ]
    }
   ],
   "source": [
    "class A:\n",
    "    ...\n",
    "\n",
    "    def quem_sou(self):\n",
    "        print('A')\n",
    "        \n",
    "    def quem_sou2(self):\n",
    "        print('vim do A')\n",
    "        print(f'mas sou agora... {self.__class__.__name__}')\n",
    "\n",
    "\n",
    "class B(A):\n",
    "    ...\n",
    "\n",
    "    # def quem_sou(self):\n",
    "    #     print('B')\n",
    "\n",
    "\n",
    "class C(A):\n",
    "    ...\n",
    "\n",
    "    def quem_sou(self):\n",
    "        print('C')\n",
    "\n",
    "\n",
    "class D(B, C):\n",
    "    ...\n",
    "\n",
    "    def quem_sou(self):\n",
    "        print('D')\n",
    "\n",
    "\n",
    "d = D()\n",
    "d.quem_sou()\n",
    "# print(D.__mro__)\n",
    "print(D.mro())"
   ]
  },
  {
   "cell_type": "code",
   "execution_count": 14,
   "metadata": {},
   "outputs": [],
   "source": [
    "for i in lista_enumerada:\n",
    "    indice, valor = i\n",
    "    print(f'Indice:{indice}, Valor:{valor}')"
   ]
  },
  {
   "cell_type": "code",
   "execution_count": 2,
   "metadata": {},
   "outputs": [],
   "source": [
    "(a, a1), (b,b1) = {'a':1, 'b':2}.items()\n"
   ]
  },
  {
   "cell_type": "code",
   "execution_count": 4,
   "metadata": {},
   "outputs": [],
   "source": [
    "dict1 = {'a':1, 'b':2}\n",
    "dict2 = {'c':3, 'd':4}\n",
    "variavel1 = {**dict1, **dict2}\n"
   ]
  },
  {
   "cell_type": "code",
   "execution_count": 5,
   "metadata": {},
   "outputs": [
    {
     "data": {
      "text/plain": [
       "{'a': 1, 'b': 2, 'c': 3, 'd': 4}"
      ]
     },
     "execution_count": 5,
     "metadata": {},
     "output_type": "execute_result"
    }
   ],
   "source": [
    "variavel1"
   ]
  },
  {
   "cell_type": "code",
   "execution_count": 9,
   "metadata": {},
   "outputs": [
    {
     "name": "stdout",
     "output_type": "stream",
     "text": [
      "Tupla:(1, 2, 3)\n",
      "Dicionario:{'a': 1, 'b': 2}\n"
     ]
    }
   ],
   "source": [
    "def args_kwargs(*tupla, **dicionarios):\n",
    "    print(f'Tupla:{tupla}')\n",
    "    print(f'Dicionario:{dicionarios}')\n",
    "    \n",
    "tupla1 = (1,2,3)\n",
    "dicionario = {'a':1,'b':2}\n",
    "args_kwargs(*tupla1, **dicionario)"
   ]
  },
  {
   "cell_type": "code",
   "execution_count": 19,
   "metadata": {},
   "outputs": [],
   "source": [
    "class Pessoa:\n",
    "    def __init__(self, nome=None):\n",
    "        self.nome = nome\n",
    "    def mostrar(self):\n",
    "        print(self.nome)\n",
    "        print(self.__class__.__name__)\n",
    "class Cliente(Pessoa):\n",
    "    ...\n",
    "class Aluno(Pessoa):\n",
    "    ..."
   ]
  },
  {
   "cell_type": "code",
   "execution_count": 21,
   "metadata": {},
   "outputs": [],
   "source": [
    "class MinhaStr(str):\n",
    "    ..."
   ]
  },
  {
   "cell_type": "code",
   "execution_count": 22,
   "metadata": {},
   "outputs": [],
   "source": [
    "a = MinhaStr('Diego')"
   ]
  },
  {
   "cell_type": "code",
   "execution_count": 23,
   "metadata": {},
   "outputs": [
    {
     "data": {
      "text/plain": [
       "'DIEGO'"
      ]
     },
     "execution_count": 23,
     "metadata": {},
     "output_type": "execute_result"
    }
   ],
   "source": [
    "a.upper()"
   ]
  },
  {
   "cell_type": "code",
   "execution_count": 24,
   "metadata": {},
   "outputs": [],
   "source": [
    "class MinhaStr(str):\n",
    "    def upper(self):\n",
    "     return None\n",
    "\n",
    "a = MinhaStr('Diego')\n",
    "a.upper()"
   ]
  },
  {
   "cell_type": "code",
   "execution_count": 27,
   "metadata": {},
   "outputs": [
    {
     "name": "stdout",
     "output_type": "stream",
     "text": [
      "Diegao\n"
     ]
    },
    {
     "data": {
      "text/plain": [
       "'BRDD'"
      ]
     },
     "execution_count": 27,
     "metadata": {},
     "output_type": "execute_result"
    }
   ],
   "source": [
    "class MinhaStr(str):\n",
    "    def upper(self):\n",
    "        print('Diegao')\n",
    "        return super().upper()\n",
    "\n",
    "a = MinhaStr('BRdd')\n",
    "a.upper()"
   ]
  },
  {
   "cell_type": "code",
   "execution_count": 34,
   "metadata": {},
   "outputs": [
    {
     "name": "stdout",
     "output_type": "stream",
     "text": [
      "metodo A :jose a\n",
      "metodo A :diego b\n",
      "metodo A :diego b\n"
     ]
    },
    {
     "data": {
      "text/plain": [
       "'diego b'"
      ]
     },
     "execution_count": 34,
     "metadata": {},
     "output_type": "execute_result"
    }
   ],
   "source": [
    "class A:\n",
    "    def __init__(self,atributo_a=None):\n",
    "        self.atributo_a = atributo_a\n",
    "\n",
    "    def metodo(self,param):\n",
    "        print(f'metodo A :{param}')\n",
    "        return f'{param}'\n",
    "\n",
    "class B(A):\n",
    "    def __init__(self,atributo_b=None):\n",
    "        self.atributo_b = atributo_b\n",
    "\n",
    "    def metodo(self):\n",
    "        return super(B,self).metodo('diego b')\n",
    "\n",
    "class C(B):\n",
    "    def __init__(self,atributo_c=None):\n",
    "        self.atributo_c = atributo_c\n",
    "\n",
    "    def metodo(self):\n",
    "        return super(C,self).metodo()\n",
    "\n",
    "a = A()\n",
    "a.metodo('jose a')\n",
    "b = B()\n",
    "b.metodo()\n",
    "c = C()\n",
    "c.metodo()"
   ]
  },
  {
   "cell_type": "code",
   "execution_count": 36,
   "metadata": {},
   "outputs": [
    {
     "data": {
      "text/plain": [
       "[__main__.C, __main__.B, __main__.A, object]"
      ]
     },
     "execution_count": 36,
     "metadata": {},
     "output_type": "execute_result"
    }
   ],
   "source": [
    "C.mro()"
   ]
  },
  {
   "cell_type": "code",
   "execution_count": null,
   "metadata": {},
   "outputs": [],
   "source": []
  }
 ],
 "metadata": {
  "kernelspec": {
   "display_name": "Python 3 (ipykernel)",
   "language": "python",
   "name": "python3"
  },
  "language_info": {
   "codemirror_mode": {
    "name": "ipython",
    "version": 3
   },
   "file_extension": ".py",
   "mimetype": "text/x-python",
   "name": "python",
   "nbconvert_exporter": "python",
   "pygments_lexer": "ipython3",
   "version": "3.11.6"
  }
 },
 "nbformat": 4,
 "nbformat_minor": 2
}
