{
 "cells": [
  {
   "cell_type": "code",
   "execution_count": 1,
   "id": "e380ea70-2b52-4743-a161-15831e0fa70b",
   "metadata": {},
   "outputs": [],
   "source": [
    "import re"
   ]
  },
  {
   "cell_type": "code",
   "execution_count": 2,
   "id": "2c293c96-eeb0-4d01-a648-868f8112d75f",
   "metadata": {},
   "outputs": [],
   "source": [
    "# Meta caracteres: ^ $ ( )\n",
    "# * 0 ou n\n",
    "# + 1 ou n\n",
    "# ? 0 ou 1"
   ]
  },
  {
   "cell_type": "code",
   "execution_count": 3,
   "id": "f36d5c56-5f70-4b23-aa05-8a1fb58eebe7",
   "metadata": {},
   "outputs": [],
   "source": [
    "import re"
   ]
  },
  {
   "cell_type": "code",
   "execution_count": 4,
   "id": "4ad8ebe2-c67c-4c5d-a912-a6f8c3873e4e",
   "metadata": {},
   "outputs": [],
   "source": [
    "texto = '''\n",
    "<p>Frase 1</p> <p>Eita</p> <p>Qualquer frase</p> <div>1</div> \n",
    "'''"
   ]
  },
  {
   "cell_type": "code",
   "execution_count": 5,
   "id": "8ee92b3b-eca4-4cbf-9aab-42f0733706c8",
   "metadata": {},
   "outputs": [
    {
     "name": "stdout",
     "output_type": "stream",
     "text": [
      "['<p>Frase 1</p> <p>Eita</p> <p>Qualquer frase</p> <div>1</div>']\n",
      "['<p>Frase 1</p>', '<p>Eita</p>', '<p>Qualquer frase</p>', '<div>1</div>']\n"
     ]
    }
   ],
   "source": [
    "print(re.findall(r'<[dpiv]{1,3}>.+<\\/[dpiv]{1,3}>', texto))\n",
    "print(re.findall(r'<[dpiv]{1,3}>.+?<\\/[dpiv]{1,3}>', texto))"
   ]
  },
  {
   "cell_type": "code",
   "execution_count": 7,
   "id": "cfbc5bcd-f8f3-4f9a-a3ad-8d62ade022fc",
   "metadata": {},
   "outputs": [
    {
     "name": "stdout",
     "output_type": "stream",
     "text": [
      "['<p>', '<p>', '<p>', '<div>']\n"
     ]
    }
   ],
   "source": [
    "print(re.findall(r'<[dpiv]{1,3}>', texto))"
   ]
  },
  {
   "cell_type": "code",
   "execution_count": null,
   "id": "0fbd05c5-93ea-4565-97c2-ce0925ff466f",
   "metadata": {},
   "outputs": [],
   "source": []
  }
 ],
 "metadata": {
  "kernelspec": {
   "display_name": "Python 3 (ipykernel)",
   "language": "python",
   "name": "python3"
  },
  "language_info": {
   "codemirror_mode": {
    "name": "ipython",
    "version": 3
   },
   "file_extension": ".py",
   "mimetype": "text/x-python",
   "name": "python",
   "nbconvert_exporter": "python",
   "pygments_lexer": "ipython3",
   "version": "3.9.10"
  }
 },
 "nbformat": 4,
 "nbformat_minor": 5
}
