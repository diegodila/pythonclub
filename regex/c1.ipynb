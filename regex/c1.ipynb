{
 "cells": [
  {
   "cell_type": "code",
   "execution_count": 1,
   "id": "89c73a36-ce60-4a25-9101-3e6a4514ed47",
   "metadata": {},
   "outputs": [],
   "source": [
    "import re"
   ]
  },
  {
   "cell_type": "code",
   "execution_count": 5,
   "id": "9e57d52c-3dc2-4e94-becd-30f42cb8d4e1",
   "metadata": {},
   "outputs": [],
   "source": [
    "# findall encontra todas as expressoes do padrão que coloquei dentro do meu texto"
   ]
  },
  {
   "cell_type": "code",
   "execution_count": 6,
   "id": "e89246c1-a43f-4615-bda4-fa13d979b7c9",
   "metadata": {},
   "outputs": [],
   "source": [
    "# search retorna o primeiro indice "
   ]
  },
  {
   "cell_type": "code",
   "execution_count": 7,
   "id": "71822715-9488-4d3b-8ed1-8f60c5b531eb",
   "metadata": {},
   "outputs": [],
   "source": [
    "# sub é para substituir algo encontrado dentro do texto"
   ]
  },
  {
   "cell_type": "code",
   "execution_count": 8,
   "id": "0cb8e23c-8973-4572-9235-bb482d27f748",
   "metadata": {},
   "outputs": [],
   "source": [
    "# compile é para compilar regex"
   ]
  },
  {
   "cell_type": "code",
   "execution_count": 13,
   "id": "c492c969-e6ce-47ad-8844-3d91c3f27532",
   "metadata": {},
   "outputs": [],
   "source": [
    "string = 'Este é um teste de expressões teste regulares'"
   ]
  },
  {
   "cell_type": "code",
   "execution_count": 14,
   "id": "860e53f3-855b-4b6f-9762-ea597e57a3bf",
   "metadata": {},
   "outputs": [
    {
     "name": "stdout",
     "output_type": "stream",
     "text": [
      "<re.Match object; span=(10, 15), match='teste'>\n"
     ]
    }
   ],
   "source": [
    "#o search sempre retorna somente a primeira ocorrencia encotrada\n",
    "print(re.search(r'teste', string)) "
   ]
  },
  {
   "cell_type": "code",
   "execution_count": 15,
   "id": "63e96620-5d24-42d4-8e81-f5f6dfd11fd9",
   "metadata": {},
   "outputs": [
    {
     "name": "stdout",
     "output_type": "stream",
     "text": [
      "['teste', 'teste']\n"
     ]
    }
   ],
   "source": [
    "#retorna uma lista de todas as ocorrencias encontradas\n",
    "print(re.findall(r'teste', string)) "
   ]
  },
  {
   "cell_type": "code",
   "execution_count": 18,
   "id": "83889b0f-1994-43ac-8497-47e19a7b4d6f",
   "metadata": {},
   "outputs": [
    {
     "name": "stdout",
     "output_type": "stream",
     "text": [
      "[]\n"
     ]
    }
   ],
   "source": [
    "# não encontra a ocorrencia\n",
    "print(re.findall(r'teste2', string)) "
   ]
  },
  {
   "cell_type": "code",
   "execution_count": 20,
   "id": "64ed2f71-5c36-4b7d-a13d-8f038926cfad",
   "metadata": {},
   "outputs": [
    {
     "name": "stdout",
     "output_type": "stream",
     "text": [
      "Este é um abacate de expressões abacate regulares\n"
     ]
    }
   ],
   "source": [
    "# substituindo todas as ocorrencias encontradas\n",
    "print(re.sub(r'teste','abacate', string)) "
   ]
  },
  {
   "cell_type": "code",
   "execution_count": 22,
   "id": "d3e9eada-5e11-4679-89b9-e156bcf2d476",
   "metadata": {},
   "outputs": [
    {
     "name": "stdout",
     "output_type": "stream",
     "text": [
      "Este é um abacate de expressões teste regulares\n"
     ]
    }
   ],
   "source": [
    "# trocando apenas a primeira palavra encontrada\n",
    "print(re.sub(r'teste','abacate', string, count=1)) "
   ]
  },
  {
   "cell_type": "code",
   "execution_count": 28,
   "id": "a9c1d1e8-424b-434b-adbd-cc1315142d6d",
   "metadata": {},
   "outputs": [],
   "source": [
    "#aqui eu só compilo uma vez a expressao regular e reutilizo ela adiante\n",
    "regexp = re.compile(r'teste')"
   ]
  },
  {
   "cell_type": "code",
   "execution_count": 29,
   "id": "40514c9d-933b-406b-8d6a-b1e004903b29",
   "metadata": {},
   "outputs": [
    {
     "data": {
      "text/plain": [
       "['teste', 'teste']"
      ]
     },
     "execution_count": 29,
     "metadata": {},
     "output_type": "execute_result"
    }
   ],
   "source": [
    "regexp.findall(string)"
   ]
  },
  {
   "cell_type": "code",
   "execution_count": 30,
   "id": "0fd4e81c-56d7-401a-8fd7-a61e42865adf",
   "metadata": {},
   "outputs": [
    {
     "data": {
      "text/plain": [
       "<re.Match object; span=(10, 15), match='teste'>"
      ]
     },
     "execution_count": 30,
     "metadata": {},
     "output_type": "execute_result"
    }
   ],
   "source": [
    "regexp.search(string)"
   ]
  },
  {
   "cell_type": "code",
   "execution_count": 31,
   "id": "24fa4ddf-d39d-47e9-9f22-f899fa82cad5",
   "metadata": {},
   "outputs": [
    {
     "data": {
      "text/plain": [
       "'Este é um dd de expressões dd regulares'"
      ]
     },
     "execution_count": 31,
     "metadata": {},
     "output_type": "execute_result"
    }
   ],
   "source": [
    "regexp.sub('dd',string)"
   ]
  },
  {
   "cell_type": "code",
   "execution_count": null,
   "id": "c9988179-c3b6-481d-b2b1-1cc666fc2a8f",
   "metadata": {},
   "outputs": [],
   "source": []
  }
 ],
 "metadata": {
  "kernelspec": {
   "display_name": "Python 3 (ipykernel)",
   "language": "python",
   "name": "python3"
  },
  "language_info": {
   "codemirror_mode": {
    "name": "ipython",
    "version": 3
   },
   "file_extension": ".py",
   "mimetype": "text/x-python",
   "name": "python",
   "nbconvert_exporter": "python",
   "pygments_lexer": "ipython3",
   "version": "3.9.10"
  }
 },
 "nbformat": 4,
 "nbformat_minor": 5
}
