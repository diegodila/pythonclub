{
 "cells": [
  {
   "cell_type": "code",
   "execution_count": null,
   "id": "a6737319-244e-46ae-8693-e361bbb115f0",
   "metadata": {},
   "outputs": [],
   "source": [
    "# Meta caracteres: . ^ $ * + ? { } [ ] \\ | ( )\n",
    "# | OU\n",
    "# . Qualquer caractere (com exceção da quebra de linha)\n",
    "# [] conjunto de caracteres"
   ]
  },
  {
   "cell_type": "code",
   "execution_count": null,
   "id": "997f438b-de9a-4753-9fb9-23b6911a6ccc",
   "metadata": {},
   "outputs": [],
   "source": [
    "import re"
   ]
  },
  {
   "cell_type": "code",
   "execution_count": null,
   "id": "ed7aeb56-b76d-4c25-b3a4-393027f5385b",
   "metadata": {},
   "outputs": [],
   "source": [
    "texto = '''\n",
    "João trouxe    flores para sua amada namorada em 10 de janeiro de 1970,\n",
    "Maria era o nome dela.\n",
    "Foi um ano excelente na vida de joão. Teve 5 filhos, todos adultos atualmente.\n",
    "maria, hoje sua esposa, ainda faz aquele café com pão de queijo nas tardes de\n",
    "domingo. Também né! Sendo a boa mineira que é, nunca esquece seu famoso\n",
    "pão de queijo.\n",
    "Não canso de ouvir a Maria:\n",
    "\"Joooooooooãooooooo, o café tá prontinho aqui. Veeemm\"!\n",
    "'''"
   ]
  },
  {
   "cell_type": "code",
   "execution_count": null,
   "id": "75d8df7f-a4cc-4e1f-ae7a-4dbd5d62e066",
   "metadata": {},
   "outputs": [],
   "source": [
    "print(re.findall(r'João|Maria|ad....s', texto))\n",
    "print(re.findall(r'João|joão|Maria', texto))\n",
    "print(re.findall(r'[Jj]oão|[Mm]aria', texto))\n",
    "print(re.findall(r'[a-z]aria', texto))\n",
    "print(re.findall(r'[a-zA-Z0-9_.]aria|[a-zA-Z0-9]oão', texto))\n",
    "print(re.findall(r'jOãO|mAriA', texto, flags=re.I))"
   ]
  },
  {
   "cell_type": "code",
   "execution_count": null,
   "id": "7999ebca-91be-4a5e-b9c2-37094ae98b3f",
   "metadata": {},
   "outputs": [],
   "source": []
  }
 ],
 "metadata": {
  "kernelspec": {
   "display_name": "Python 3 (ipykernel)",
   "language": "python",
   "name": "python3"
  },
  "language_info": {
   "codemirror_mode": {
    "name": "ipython",
    "version": 3
   },
   "file_extension": ".py",
   "mimetype": "text/x-python",
   "name": "python",
   "nbconvert_exporter": "python",
   "pygments_lexer": "ipython3",
   "version": "3.9.10"
  }
 },
 "nbformat": 4,
 "nbformat_minor": 5
}
