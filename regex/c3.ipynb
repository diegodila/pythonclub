{
 "cells": [
  {
   "cell_type": "code",
   "execution_count": 5,
   "id": "89efcbcb-0680-4174-b079-ed5e6dae427b",
   "metadata": {},
   "outputs": [],
   "source": [
    "# Meta caracteres: ^ $ ( )\n",
    "# * 0 ou n repetições \n",
    "# + 1 ou n {1,} repetições\n",
    "# ? 0 ou 1\n",
    "# {n}\n",
    "# {min, max}\n",
    "# {10,} 10 ou mais\n",
    "# {,10} De zero a 10\n",
    "# {10} Especificamente 10\n",
    "# {5,10} De 5 a 10\n",
    "# ()+ [a-zA-Z0-9]+\n"
   ]
  },
  {
   "cell_type": "code",
   "execution_count": null,
   "id": "2acd7437-4385-46c1-a032-1fc31f461369",
   "metadata": {},
   "outputs": [],
   "source": [
    "# o quantificador é aplicado a esquerda do quantificador ex.o+, a+"
   ]
  },
  {
   "cell_type": "code",
   "execution_count": 29,
   "id": "8d8a097d-40ef-4f43-a584-57569b925c24",
   "metadata": {},
   "outputs": [],
   "source": [
    "import re\n",
    "\n",
    "texto = '''\n",
    "João trouxe    flores para sua amada namorada em 10 de janeiro de 1970,\n",
    "Maria era o nome dela.\n",
    "Foi um ano excelente na vida de joão. Teve 5 filhos, todos adultos atualmente.\n",
    "maria, hoje sua esposa, ainda faz aquele café com pão de queijo nas tardes de\n",
    "domingo. Também né! Sendo a boa mineira que é, nunca esquece seu famoso\n",
    "pão de queijo.\n",
    "Não canso de ouvir a Maria:\n",
    "\"Joooooooooãooooooo, o café tá prontinho aqui. Veeemm veeem veem vem\"!\n",
    "Jã\n",
    "'''"
   ]
  },
  {
   "cell_type": "code",
   "execution_count": 30,
   "id": "0d5c9d48-f133-49a0-a2ea-04f9e9c08de0",
   "metadata": {},
   "outputs": [
    {
     "name": "stdout",
     "output_type": "stream",
     "text": [
      "['João', 'joão', 'Joooooooooãooooooo']\n",
      "['João', 'joão', 'Joooooooooãooooooo']\n",
      "['Veeemm', 'veeem']\n"
     ]
    }
   ],
   "source": [
    "print(re.findall(r'j[o]+ão+', texto, flags=re.I))\n",
    "print(re.findall(r'jo{1,}ão{1,}', texto, flags=re.I))\n",
    "print(re.findall(r've{3}m{1,2}', texto, flags=re.I))\n",
    "# print(re.sub(r'jo{1,}ão{1,}', 'Felipe', texto, flags=re.I))"
   ]
  },
  {
   "cell_type": "code",
   "execution_count": 31,
   "id": "ed646cd2-d6da-4ebb-9536-c56b561a3e65",
   "metadata": {},
   "outputs": [
    {
     "name": "stdout",
     "output_type": "stream",
     "text": [
      "['ama', 'amado']\n"
     ]
    }
   ],
   "source": [
    "texto2 = 'João ama ser amado'\n",
    "print(re.findall(r'ama[od]{0,2}', texto2, flags=re.I))"
   ]
  },
  {
   "cell_type": "code",
   "execution_count": 32,
   "id": "16709409-a665-4567-901b-7461df7f6c77",
   "metadata": {},
   "outputs": [
    {
     "name": "stdout",
     "output_type": "stream",
     "text": [
      "\n",
      "Felipe trouxe    flores para sua amada namorada em 10 de janeiro de 1970,\n",
      "Maria era o nome dela.\n",
      "Foi um ano excelente na vida de Felipe. Teve 5 filhos, todos adultos atualmente.\n",
      "maria, hoje sua esposa, ainda faz aquele café com pão de queijo nas tardes de\n",
      "domingo. Também né! Sendo a boa mineira que é, nunca esquece seu famoso\n",
      "pão de queijo.\n",
      "Não canso de ouvir a Maria:\n",
      "\"Felipe, o café tá prontinho aqui. Veeemm veeem veem vem\"!\n",
      "Jã\n",
      "\n"
     ]
    }
   ],
   "source": [
    "print(re.sub(r'j[o]+ão+', 'Felipe',texto, flags=re.I))"
   ]
  },
  {
   "cell_type": "code",
   "execution_count": 33,
   "id": "8d7f2fea-1f86-429a-abd9-6ea6b271482d",
   "metadata": {},
   "outputs": [
    {
     "name": "stdout",
     "output_type": "stream",
     "text": [
      "['João', 'joão', 'Joooooooooãooooooo', 'Jã']\n"
     ]
    }
   ],
   "source": [
    "print(re.findall(r'jo*ão*', texto, flags=re.I))"
   ]
  },
  {
   "cell_type": "code",
   "execution_count": 34,
   "id": "977ecaff-34e3-448d-9196-38d53c6b6347",
   "metadata": {},
   "outputs": [
    {
     "name": "stdout",
     "output_type": "stream",
     "text": [
      "['João', 'joão', 'Jã']\n"
     ]
    }
   ],
   "source": [
    "print(re.findall(r'jo?ão*', texto, flags=re.I))"
   ]
  },
  {
   "cell_type": "code",
   "execution_count": 35,
   "id": "a92eaa9e-d282-4e3c-b0d2-a69a8a099f32",
   "metadata": {},
   "outputs": [
    {
     "name": "stdout",
     "output_type": "stream",
     "text": [
      "['João', 'joão', 'Joooooooooãooooooo']\n"
     ]
    }
   ],
   "source": [
    "print(re.findall(r'jo+ão+', texto, flags=re.I))"
   ]
  },
  {
   "cell_type": "code",
   "execution_count": 36,
   "id": "033aabb1-d653-4788-94c2-c4cc0b33420c",
   "metadata": {},
   "outputs": [
    {
     "name": "stdout",
     "output_type": "stream",
     "text": [
      "['João', 'joão', 'Joooooooooãooooooo']\n"
     ]
    }
   ],
   "source": [
    "print(re.findall(r'jo{1,}ão{1,}', texto, flags=re.I))"
   ]
  },
  {
   "cell_type": "code",
   "execution_count": 37,
   "id": "ac0d9da1-06f3-47e9-a9ce-eb4edcd8da00",
   "metadata": {},
   "outputs": [
    {
     "name": "stdout",
     "output_type": "stream",
     "text": [
      "['amado']\n"
     ]
    }
   ],
   "source": [
    "print(re.findall(r'ama[do]{2}', texto2, flags=re.I))"
   ]
  },
  {
   "cell_type": "code",
   "execution_count": 38,
   "id": "1861a281-af99-4f63-934b-6826fcd54f09",
   "metadata": {},
   "outputs": [
    {
     "name": "stdout",
     "output_type": "stream",
     "text": [
      "['ama', 'amado']\n"
     ]
    }
   ],
   "source": [
    "print(re.findall(r'ama[do]*', texto2, flags=re.I))"
   ]
  },
  {
   "cell_type": "code",
   "execution_count": 39,
   "id": "04516675-9b55-4bb6-9002-6ad027f82f62",
   "metadata": {},
   "outputs": [
    {
     "name": "stdout",
     "output_type": "stream",
     "text": [
      "['ama', 'amado']\n"
     ]
    }
   ],
   "source": [
    "print(re.findall(r'ama[do]{0,2}', texto2, flags=re.I))"
   ]
  },
  {
   "cell_type": "code",
   "execution_count": null,
   "id": "b9c8b211-f88d-43be-9774-a7d6e37fb678",
   "metadata": {},
   "outputs": [],
   "source": []
  }
 ],
 "metadata": {
  "kernelspec": {
   "display_name": "Python 3 (ipykernel)",
   "language": "python",
   "name": "python3"
  },
  "language_info": {
   "codemirror_mode": {
    "name": "ipython",
    "version": 3
   },
   "file_extension": ".py",
   "mimetype": "text/x-python",
   "name": "python",
   "nbconvert_exporter": "python",
   "pygments_lexer": "ipython3",
   "version": "3.9.10"
  }
 },
 "nbformat": 4,
 "nbformat_minor": 5
}
