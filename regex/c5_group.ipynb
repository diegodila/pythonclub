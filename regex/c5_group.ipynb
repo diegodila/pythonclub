{
 "cells": [
  {
   "cell_type": "code",
   "execution_count": 2,
   "id": "fdea7bc9-6566-48a6-a162-8d968307b802",
   "metadata": {},
   "outputs": [],
   "source": [
    "# Meta caracteres: ^ $\n",
    "# ()     \\1\n",
    "# () ()  \\1 \\2\n",
    "# (())()   \\1 \\2 \\3\n",
    "import re\n",
    "from pprint import pprint"
   ]
  },
  {
   "cell_type": "code",
   "execution_count": 3,
   "id": "c2835b22-7554-45d7-a404-6a944f0c2a21",
   "metadata": {},
   "outputs": [],
   "source": [
    "texto = '''\n",
    "<p>Frase 1</p> <p>Eita</p> <p>Qualquer frase</p> <div>1</div> \n",
    "'''"
   ]
  },
  {
   "cell_type": "code",
   "execution_count": 4,
   "id": "e1b9c42e-fd77-4f86-bcc5-33cf5cf42240",
   "metadata": {},
   "outputs": [],
   "source": [
    "# cpf = 'a 147.852.963-12 a'\n",
    "# print(re.findall(r'((?:[0-9]{3}\\.){2}[0-9]{3}-[0-9]{2})', cpf))\n",
    "\n",
    "# tags = re.findall(r'<([dpiv]{1,3})>(.+?)<\\/\\1>', texto)\n",
    "# tags = re.findall(r'<(?P<tag>[dpiv]{1,3})>(.+?)<\\/(?P=tag)>', texto)\n",
    "# pprint(tags)"
   ]
  },
  {
   "cell_type": "code",
   "execution_count": 5,
   "id": "77378609-d686-4f1c-95d7-b983152ab183",
   "metadata": {},
   "outputs": [
    {
     "name": "stdout",
     "output_type": "stream",
     "text": [
      "\n",
      "<p> MAIS Frase 1 COISAS </p> <p> MAIS Eita COISAS </p> <p> MAIS Qualquer frase COISAS </p> <div> MAIS 1 COISAS </div> \n",
      "\n"
     ]
    }
   ],
   "source": [
    "print(re.sub(r'(<(.+?)>)(.+?)(<\\/\\2>)', r'\\1 MAIS \\3 COISAS \\4', texto))"
   ]
  },
  {
   "cell_type": "code",
   "execution_count": 6,
   "id": "dce297f1-234b-478f-b2db-6d8fc4c66df4",
   "metadata": {},
   "outputs": [],
   "source": [
    "# # for tag in tags:\n",
    "# #     um, dois, tres = tag\n",
    "# #     print(tres)"
   ]
  },
  {
   "cell_type": "code",
   "execution_count": null,
   "id": "289b52a4-5951-4f1d-9be8-558b100c2835",
   "metadata": {},
   "outputs": [],
   "source": []
  },
  {
   "cell_type": "code",
   "execution_count": null,
   "id": "30b14741-0c90-4b87-92e5-46ce7d0c1d53",
   "metadata": {},
   "outputs": [],
   "source": []
  },
  {
   "cell_type": "code",
   "execution_count": null,
   "id": "18d424d4-01bf-41fd-97c2-72ad326ca130",
   "metadata": {},
   "outputs": [],
   "source": []
  },
  {
   "cell_type": "code",
   "execution_count": null,
   "id": "75abbf62-bb0b-4526-8672-e7b5f172e622",
   "metadata": {},
   "outputs": [],
   "source": []
  },
  {
   "cell_type": "code",
   "execution_count": null,
   "id": "cea4e823-c767-4626-98f1-df961368bc43",
   "metadata": {},
   "outputs": [],
   "source": []
  },
  {
   "cell_type": "code",
   "execution_count": null,
   "id": "64239e94-2819-481a-accc-004b071c5063",
   "metadata": {},
   "outputs": [],
   "source": []
  },
  {
   "cell_type": "code",
   "execution_count": null,
   "id": "6e78159a-fefb-4315-86a8-e4d66ec7c240",
   "metadata": {},
   "outputs": [],
   "source": []
  },
  {
   "cell_type": "code",
   "execution_count": null,
   "id": "8dde7251-e865-4a80-b2aa-d51081342e4e",
   "metadata": {},
   "outputs": [],
   "source": []
  },
  {
   "cell_type": "code",
   "execution_count": null,
   "id": "e76ea8b5-c94f-4a8d-872b-3fdabe29cdda",
   "metadata": {},
   "outputs": [],
   "source": []
  },
  {
   "cell_type": "code",
   "execution_count": null,
   "id": "a3c70a0f-2975-4501-9fdf-42edcbd41eb3",
   "metadata": {},
   "outputs": [],
   "source": []
  }
 ],
 "metadata": {
  "kernelspec": {
   "display_name": "Python 3 (ipykernel)",
   "language": "python",
   "name": "python3"
  },
  "language_info": {
   "codemirror_mode": {
    "name": "ipython",
    "version": 3
   },
   "file_extension": ".py",
   "mimetype": "text/x-python",
   "name": "python",
   "nbconvert_exporter": "python",
   "pygments_lexer": "ipython3",
   "version": "3.9.10"
  }
 },
 "nbformat": 4,
 "nbformat_minor": 5
}
