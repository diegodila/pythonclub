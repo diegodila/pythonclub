{
 "cells": [
  {
   "cell_type": "code",
   "execution_count": null,
   "metadata": {},
   "outputs": [],
   "source": [
    "#591.1\n",
    "from work.pythonclub.f14_TDD.assertion.calculator_assertion import calculator\n",
    "try:\n",
    "    calculator('s',3)\n",
    "except AssertionError as e:\n",
    "    print('erro->',e)"
   ]
  },
  {
   "cell_type": "code",
   "execution_count": null,
   "metadata": {},
   "outputs": [],
   "source": [
    "#592.1\n",
    "from work.pythonclub.f14_TDD.doctest.calculator_doctest import soma\n",
    "\n",
    "soma(1,4)"
   ]
  },
  {
   "cell_type": "code",
   "execution_count": null,
   "metadata": {},
   "outputs": [],
   "source": [
    "#593.4\n",
    "import unittest\n",
    "from work.pythonclub.f14_TDD.unittest.calculator_unittest import soma\n",
    "\n",
    "class TestCalculator(unittest.TestCase):\n",
    "    def test_sum_5_and_5_should_10(self):\n",
    "        self.assertEqual(soma(5,5),10)\n",
    "\n",
    "if __name__ == '__main__':\n",
    "    unittest.main(argv=['first-arg-is-ignored'], exit=False, verbosity=2)"
   ]
  },
  {
   "cell_type": "code",
   "execution_count": null,
   "metadata": {},
   "outputs": [],
   "source": [
    "#593.4\n",
    "import unittest\n",
    "from work.pythonclub.f14_TDD.unittest.calculator_unittest import soma\n",
    "\n",
    "class TestCalculator(unittest.TestCase):\n",
    "    def test_sum_5_and_5_should_10(self):\n",
    "        self.assertEqual(soma(5,5),10)\n",
    "\n",
    "\n",
    "suite = unittest.TestLoader().loadTestsFromTestCase(TestCalculator)\n",
    "unittest.TextTestRunner().run(suite)\n"
   ]
  },
  {
   "cell_type": "code",
   "execution_count": null,
   "metadata": {},
   "outputs": [],
   "source": [
    "#593.5\n",
    "import unittest\n",
    "from work.pythonclub.f14_TDD.unittest.calculator_unittest import soma\n",
    "\n",
    "class TestCalculatorAnyTests(unittest.TestCase):\n",
    "    def test_sum_many_values(self):\n",
    "        values = ((1,3,4), (1,5,6), (3,5,8))\n",
    "        for a, b, x in values:\n",
    "            print(a,b,x)\n",
    "            self.assertEqual(soma(a,b),x)\n",
    "        \n",
    "if __name__ == '__main__':\n",
    "    unittest.main(argv=['first-arg-is-ignored'], exit=False, verbosity=2)"
   ]
  },
  {
   "cell_type": "code",
   "execution_count": null,
   "metadata": {},
   "outputs": [],
   "source": [
    "#593.6\n",
    "from work.pythonclub.f14_TDD.unittest.calculator_unittest import soma\n",
    "import unittest\n",
    "\n",
    "class TestCaculatorSub(unittest.TestCase):\n",
    "    def test_sub_test(self):\n",
    "        vari = ((1,2,3),(2,3,5),(2,33,25))\n",
    "        \n",
    "        for i,j,k in vari:\n",
    "            with self.subTest(vari=(i,j,k)):\n",
    "                self.assertEqual(soma(i,j),k)\n",
    "            \n",
    "if __name__ == '__main__':\n",
    "    unittest.main(argv=['first-arg-is-ignored'], exit=False, verbosity=2)"
   ]
  },
  {
   "cell_type": "code",
   "execution_count": null,
   "metadata": {},
   "outputs": [],
   "source": [
    "#593.7\n",
    "from work.pythonclub.f14_TDD.unittest.calculator_unittest import soma\n",
    "import unittest\n",
    "\n",
    "class TestCaculatorSub(unittest.TestCase):\n",
    "    def test_sub_test(self):\n",
    "        vari = ((1,2,3),(2,3,5),(2,33,35))\n",
    "        \n",
    "        for i,j,k in vari:\n",
    "            with self.subTest(vari=(i,j,k)):\n",
    "                self.assertEqual(soma(i,j),k)\n",
    "                \n",
    "    def test_sub_assert(self):\n",
    "        with self.assertRaises(AssertionError):\n",
    "            soma('11',0)\n",
    "            \n",
    "if __name__ == '__main__':\n",
    "    unittest.main(argv=['first-arg-is-ignored'], exit=False, verbosity=2)"
   ]
  },
  {
   "cell_type": "code",
   "execution_count": null,
   "metadata": {},
   "outputs": [],
   "source": [
    "#594.6\n",
    "from work.pythonclub.f14_TDD.unittest.tdd_no_bacon.nobacon_eggs import nobaconeggs\n",
    "import unittest\n",
    "\n",
    "class TestNOBaconEggs(unittest.TestCase):\n",
    "    def test_nobacon_eggs_must_raises(self):\n",
    "        with self.assertRaises(AssertionError):\n",
    "            nobaconeggs('')\n",
    "            \n",
    "    def test_bacon_com_ovos_deve_retornar_bacon_com_ovos_se_entrada_for_multiplo_de_3_e_5(self):\n",
    "        entradas = (15, 30, 45, 60)\n",
    "        saida = 'alface com ovos'\n",
    "\n",
    "        for entrada in entradas:\n",
    "            with self.subTest(entrada=entrada, saida=saida):\n",
    "                self.assertEqual(\n",
    "                    nobaconeggs(entrada),\n",
    "                    saida,\n",
    "                    msg=f'\"{entrada}\" não retornou \"{saida}\"'\n",
    "                )\n",
    "\n",
    "    def test_bacon_com_ovos_deve_retornar_passar_fome_se_entrada_nao_for_multiplo_de_3_e_5(self):\n",
    "        entradas = (1, 2, 4, 7, 8)\n",
    "        saida = 'Passar fome'\n",
    "\n",
    "        for entrada in entradas:\n",
    "            with self.subTest(entrada=entrada, saida=saida):\n",
    "                self.assertEqual(\n",
    "                    nobaconeggs(entrada),\n",
    "                    saida,\n",
    "                    msg=f'\"{entrada}\" não retornou \"{saida}\"'\n",
    "                )\n",
    "\n",
    "    def test_bacon_com_ovos_deve_retornar_bacon_se_entrada_for_multiplo_de_3(self):\n",
    "        entradas = (3, 6, 9, 12, 18, 21)\n",
    "        saida = 'Algas'\n",
    "\n",
    "        for entrada in entradas:\n",
    "            with self.subTest(entrada=entrada, saida=saida):\n",
    "                self.assertEqual(\n",
    "                    nobaconeggs(entrada),\n",
    "                    saida,\n",
    "                    msg=f'\"{entrada}\" não retornou \"{saida}\"'\n",
    "                )\n",
    "\n",
    "    def test_bacon_com_ovos_deve_retornar_ovos_se_entrada_for_multiplo_de_5(self):\n",
    "        entradas = (5, 10, 20, 25, 35)\n",
    "        saida = 'Ovos'\n",
    "\n",
    "        for entrada in entradas:\n",
    "            with self.subTest(entrada=entrada, saida=saida):\n",
    "                self.assertEqual(\n",
    "                    nobaconeggs(entrada),\n",
    "                    saida,\n",
    "                    msg=f'\"{entrada}\" não retornou \"{saida}\"'\n",
    "                )\n",
    "if __name__ == '__main__':\n",
    "    unittest.main(argv=['first-arg-is-ignored'], exit=False, verbosity=2)"
   ]
  },
  {
   "cell_type": "code",
   "execution_count": null,
   "metadata": {},
   "outputs": [],
   "source": []
  }
 ],
 "metadata": {
  "kernelspec": {
   "display_name": "Python 3 (ipykernel)",
   "language": "python",
   "name": "python3"
  },
  "language_info": {
   "codemirror_mode": {
    "name": "ipython",
    "version": 3
   },
   "file_extension": ".py",
   "mimetype": "text/x-python",
   "name": "python",
   "nbconvert_exporter": "python",
   "pygments_lexer": "ipython3",
   "version": "3.11.4"
  },
  "orig_nbformat": 4
 },
 "nbformat": 4,
 "nbformat_minor": 2
}
