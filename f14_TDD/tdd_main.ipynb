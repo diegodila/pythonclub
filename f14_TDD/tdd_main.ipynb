{
 "cells": [
  {
   "cell_type": "code",
   "execution_count": null,
   "metadata": {},
   "outputs": [],
   "source": [
    "#591.1\n",
    "from work.pythonclub.f14_TDD.assertion.calculator_assertion import calculator\n",
    "try:\n",
    "    calculator('s',3)\n",
    "except AssertionError as e:\n",
    "    print('erro->',e)"
   ]
  },
  {
   "cell_type": "code",
   "execution_count": null,
   "metadata": {},
   "outputs": [],
   "source": [
    "#592.1\n",
    "from work.pythonclub.f14_TDD.doctest.calculator_doctest import soma\n",
    "\n",
    "soma(1,4)"
   ]
  },
  {
   "cell_type": "code",
   "execution_count": null,
   "metadata": {},
   "outputs": [],
   "source": [
    "#593.4\n",
    "import unittest\n",
    "from work.pythonclub.f14_TDD.unittest.calculator_unittest import soma\n",
    "\n",
    "class TestCalculator(unittest.TestCase):\n",
    "    def test_sum_5_and_5_should_10(self):\n",
    "        self.assertEqual(soma(5,5),10)\n",
    "\n",
    "if __name__ == '__main__':\n",
    "    unittest.main(argv=['first-arg-is-ignored'], exit=False, verbosity=2)"
   ]
  },
  {
   "cell_type": "code",
   "execution_count": null,
   "metadata": {},
   "outputs": [],
   "source": [
    "#593.4\n",
    "import unittest\n",
    "from work.pythonclub.f14_TDD.unittest.calculator_unittest import soma\n",
    "\n",
    "class TestCalculator(unittest.TestCase):\n",
    "    def test_sum_5_and_5_should_10(self):\n",
    "        self.assertEqual(soma(5,5),10)\n",
    "\n",
    "\n",
    "suite = unittest.TestLoader().loadTestsFromTestCase(TestCalculator)\n",
    "unittest.TextTestRunner().run(suite)\n"
   ]
  },
  {
   "cell_type": "code",
   "execution_count": null,
   "metadata": {},
   "outputs": [],
   "source": [
    "#593.5\n",
    "import unittest\n",
    "from work.pythonclub.f14_TDD.unittest.calculator_unittest import soma\n",
    "\n",
    "class TestCalculatorAnyTests(unittest.TestCase):\n",
    "    def test_sum_many_values(self):\n",
    "        values = ((1,3,4), (1,5,6), (3,5,8))\n",
    "        for a, b, x in values:\n",
    "            print(a,b,x)\n",
    "            self.assertEqual(soma(a,b),x)\n",
    "        \n",
    "if __name__ == '__main__':\n",
    "    unittest.main(argv=['first-arg-is-ignored'], exit=False, verbosity=2)"
   ]
  },
  {
   "cell_type": "code",
   "execution_count": null,
   "metadata": {},
   "outputs": [],
   "source": [
    "#593.6\n",
    "from work.pythonclub.f14_TDD.unittest.calculator_unittest import soma\n",
    "import unittest\n",
    "\n",
    "class TestCaculatorSub(unittest.TestCase):\n",
    "    def test_sub_test(self):\n",
    "        vari = ((1,2,3),(2,3,5),(2,33,25))\n",
    "        \n",
    "        for i,j,k in vari:\n",
    "            with self.subTest(vari=(i,j,k)):\n",
    "                self.assertEqual(soma(i,j),k)\n",
    "            \n",
    "if __name__ == '__main__':\n",
    "    unittest.main(argv=['first-arg-is-ignored'], exit=False, verbosity=2)"
   ]
  },
  {
   "cell_type": "code",
   "execution_count": null,
   "metadata": {},
   "outputs": [],
   "source": [
    "#593.7\n",
    "from work.pythonclub.f14_TDD.unittest.calculator_unittest import soma\n",
    "import unittest\n",
    "\n",
    "class TestCaculatorSub(unittest.TestCase):\n",
    "    def test_sub_test(self):\n",
    "        vari = ((1,2,3),(2,3,5),(2,33,35))\n",
    "        \n",
    "        for i,j,k in vari:\n",
    "            with self.subTest(vari=(i,j,k)):\n",
    "                self.assertEqual(soma(i,j),k)\n",
    "                \n",
    "    def test_sub_assert(self):\n",
    "        with self.assertRaises(AssertionError):\n",
    "            soma('11',0)\n",
    "            \n",
    "if __name__ == '__main__':\n",
    "    unittest.main(argv=['first-arg-is-ignored'], exit=False, verbosity=2)"
   ]
  },
  {
   "cell_type": "code",
   "execution_count": null,
   "metadata": {},
   "outputs": [],
   "source": []
  }
 ],
 "metadata": {
  "kernelspec": {
   "display_name": "Python 3 (ipykernel)",
   "language": "python",
   "name": "python3"
  },
  "language_info": {
   "codemirror_mode": {
    "name": "ipython",
    "version": 3
   },
   "file_extension": ".py",
   "mimetype": "text/x-python",
   "name": "python",
   "nbconvert_exporter": "python",
   "pygments_lexer": "ipython3",
   "version": "3.11.4"
  },
  "orig_nbformat": 4
 },
 "nbformat": 4,
 "nbformat_minor": 2
}
