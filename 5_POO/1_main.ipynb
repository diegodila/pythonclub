{
 "cells": [
  {
   "cell_type": "code",
   "execution_count": null,
   "metadata": {},
   "outputs": [],
   "source": [
    "# class - Classes são moldes para criar novos objetos\n",
    "# As classes geram novos objetos (instâncias) que\n",
    "# podem ter seus próprios atributos e métodos.\n",
    "# Os objetos gerados pela classe podem usar seus dados\n",
    "# internos para realizar várias ações.\n",
    "# Por convenção, usamos PascalCase para nomes de\n",
    "# classes.\n",
    "# string = 'Luiz'  # str\n",
    "# print(string.upper())\n",
    "# print(isinstance(string, str))\n",
    "class Pessoa:\n",
    "    ...\n",
    "\n",
    "\n",
    "p1 = Pessoa('Luiz', 'Otávio')\n",
    "p1.nome = 'Luiz'\n",
    "p1.sobrenome = 'Otávio'\n",
    "\n",
    "p2 = Pessoa('Maria', 'Joana')\n",
    "p2.nome = 'Maria'\n",
    "p2.sobrenome = 'Joana'\n",
    "\n",
    "print(p1.nome)\n",
    "print(p1.sobrenome)\n",
    "\n",
    "print(p2.nome)\n",
    "print(p2.sobrenome)"
   ]
  },
  {
   "cell_type": "code",
   "execution_count": null,
   "metadata": {},
   "outputs": [],
   "source": [
    "# Introdução ao método __init__ (inicializador de atributos)\n",
    "# As classes geram novos objetos (instâncias) que\n",
    "# podem ter seus próprios atributos e métodos.\n",
    "# Os objetos gerados pela classe podem usar seus dados\n",
    "# internos para realizar várias ações.\n",
    "# Por convenção, usamos PascalCase para nomes de\n",
    "# classes.\n",
    "# string = 'Luiz'  # str\n",
    "# print(string.upper())\n",
    "# print(isinstance(string, str))\n",
    "class Pessoa:\n",
    "    def __init__(self, nome, sobrenome):\n",
    "        self.nome = nome\n",
    "        self.sobrenome = sobrenome\n",
    "\n",
    "\n",
    "p1 = Pessoa('Luiz', 'Otávio')\n",
    "# p1.nome = 'Luiz'\n",
    "# p1.sobrenome = 'Otávio'\n",
    "\n",
    "p2 = Pessoa('Maria', 'Joana')\n",
    "# p2.nome = 'Maria'\n",
    "# p2.sobrenome = 'Joana'\n",
    "\n",
    "print(p1.nome)\n",
    "print(p1.sobrenome)\n",
    "\n",
    "print(p2.nome)\n",
    "print(p2.sobrenome)"
   ]
  },
  {
   "cell_type": "code",
   "execution_count": null,
   "metadata": {},
   "outputs": [],
   "source": [
    "# Métodos em instâncias de classes Python\n",
    "# Hard coded - É algo que foi escrito diretamente no código\n",
    "class Carro:\n",
    "    def __init__(self, nome):\n",
    "        self.nome = nome\n",
    "\n",
    "    def acelerar(self):\n",
    "        print(f'{self.nome} está acelerando...')\n",
    "\n",
    "\n",
    "string = 'Luiz'\n",
    "print(string.upper())\n",
    "\n",
    "fusca = Carro('Fusca')\n",
    "print(fusca.nome)\n",
    "fusca.acelerar()\n",
    "\n",
    "celta = Carro(nome='Celta')\n",
    "print(celta.nome)\n",
    "celta.acelerar()"
   ]
  },
  {
   "cell_type": "code",
   "execution_count": null,
   "metadata": {},
   "outputs": [],
   "source": [
    "# Entendendo self em classes Python\n",
    "# Classe - Molde (geralmente sem dados)\n",
    "# Instância da class (objeto) - Tem os dados\n",
    "# Uma classe pode gerar várias instâncias.\n",
    "# Na classe o self é a própria instância.\n",
    "class Carro:\n",
    "    def __init__(self, nome):\n",
    "        self.nome = nome\n",
    "\n",
    "    def acelerar(self):\n",
    "        print(f'{self.nome} está acelerando...')\n",
    "\n",
    "\n",
    "fusca = Carro('Fusca')\n",
    "fusca.acelerar()\n",
    "Carro.acelerar(fusca)\n",
    "# print(fusca.nome)\n",
    "# fusca.acelerar()\n",
    "\n",
    "celta = Carro(nome='Celta')\n",
    "celta.acelerar()\n",
    "Carro.acelerar(celta)\n",
    "# print(celta.nome)"
   ]
  },
  {
   "cell_type": "code",
   "execution_count": null,
   "metadata": {},
   "outputs": [],
   "source": [
    "# Mantendo estados dentro da classe\n",
    "class Camera:\n",
    "    def __init__(self, nome, filmando=False):\n",
    "        self.nome = nome\n",
    "        self.filmando = filmando\n",
    "\n",
    "    def filmar(self):\n",
    "        if self.filmando:\n",
    "            print(f'{self.nome} JÁ está filmando...')\n",
    "            return\n",
    "\n",
    "        print(f'{self.nome} está filmando...')\n",
    "        self.filmando = True\n",
    "\n",
    "    def parar_filmar(self):\n",
    "        if not self.filmando:\n",
    "            print(f'{self.nome} NÃO está filmando...')\n",
    "            return\n",
    "\n",
    "        print(f'{self.nome} está parando de filmar...')\n",
    "        self.filmando = False\n",
    "\n",
    "    def fotografar(self):\n",
    "        if self.filmando:\n",
    "            print(f'{self.nome} não pode fotografar filmando')\n",
    "            return\n",
    "\n",
    "        print(f'{self.nome} está fotografando...')\n",
    "\n",
    "\n",
    "c1 = Camera('Canon')\n",
    "c2 = Camera('Sony')\n",
    "\n",
    "c1.filmar()\n",
    "c1.filmar()\n",
    "c1.fotografar()\n",
    "c1.parar_filmar()\n",
    "c1.fotografar()\n",
    "\n",
    "print()\n",
    "\n",
    "c2.parar_filmar()\n",
    "c2.filmar()\n",
    "c2.filmar()\n",
    "c2.fotografar()\n",
    "c2.parar_filmar()\n",
    "c2.fotografar()"
   ]
  },
  {
   "cell_type": "code",
   "execution_count": null,
   "metadata": {},
   "outputs": [],
   "source": [
    "# Mantendo estados dentro da classe\n",
    "class Camera:\n",
    "    def __init__(self, nome,filmando=False):\n",
    "        self.nome = nome\n",
    "        self.filmando = filmando\n",
    "    \n",
    "    def filmar(self):\n",
    "        if self.filmando:\n",
    "            return f'A {self.nome} já está filmando'\n",
    "        \n",
    "        self.filmando = True\n",
    "        print(f'A {self.nome} começou a filmar')\n",
    "        \n",
    "    def fotografando(self):\n",
    "        if self.filmando:\n",
    "            return f'A {self.nome} não pode fotograr com a camera filmando'\n",
    "        \n",
    "        print(f'A {self.nome} está fotografando')\n",
    "    \n",
    "    def parar_de_filmar(self):\n",
    "        if self.filmando == False:\n",
    "            return f'A camera já parou de filmar'\n",
    "        \n",
    "        self.filmando = False\n",
    "        print(f'A {self.nome} está parando de filmar')\n"
   ]
  },
  {
   "cell_type": "code",
   "execution_count": null,
   "metadata": {},
   "outputs": [],
   "source": [
    "# __dict__ e vars para atributos de instância\n",
    "class Pessoa:\n",
    "    ano_atual = 2022\n",
    "\n",
    "    def __init__(self, nome, idade):\n",
    "        self.nome = nome\n",
    "        self.idade = idade\n",
    "\n",
    "    def get_ano_nascimento(self):\n",
    "        return Pessoa.ano_atual - self.idade\n",
    "\n",
    "\n",
    "dados = {'nome': 'João', 'idade': 35}\n",
    "p1 = Pessoa(**dados)\n",
    "# p1.nome = 'EITA'\n",
    "# print(p1.idade)\n",
    "# p1.__dict__['outra'] = 'coisa'\n",
    "# p1.__dict__['nome'] = 'EITA'\n",
    "# del p1.__dict__['nome']\n",
    "# print(p1.__dict__)\n",
    "# print(vars(p1))\n",
    "# print(p1.outra)\n",
    "# print(p1.nome)\n",
    "print(vars(p1))\n",
    "print(p1.nome)\n"
   ]
  },
  {
   "cell_type": "code",
   "execution_count": 2,
   "metadata": {},
   "outputs": [
    {
     "name": "stdout",
     "output_type": "stream",
     "text": [
      "{'nome': 'Diego', 'sobrenome': 'G'}\n"
     ]
    }
   ],
   "source": [
    "class Pessoa:\n",
    "    def __init__(self,nome='Diego'):\n",
    "        self.nome = nome\n",
    "\n",
    "p = Pessoa()\n",
    "p.__dict__['sobrenome'] = 'G'\n",
    "\n",
    "print(vars(p))"
   ]
  },
  {
   "cell_type": "code",
   "execution_count": 4,
   "metadata": {},
   "outputs": [
    {
     "ename": "TypeError",
     "evalue": "Pessoa.__init__() got an unexpected keyword argument 'idade'",
     "output_type": "error",
     "traceback": [
      "\u001b[0;31m---------------------------------------------------------------------------\u001b[0m",
      "\u001b[0;31mTypeError\u001b[0m                                 Traceback (most recent call last)",
      "Cell \u001b[0;32mIn[4], line 7\u001b[0m\n\u001b[1;32m      3\u001b[0m         \u001b[39mself\u001b[39m\u001b[39m.\u001b[39mnome \u001b[39m=\u001b[39m nome \n\u001b[1;32m      5\u001b[0m dados \u001b[39m=\u001b[39m {\u001b[39m'\u001b[39m\u001b[39mnome\u001b[39m\u001b[39m'\u001b[39m:\u001b[39m'\u001b[39m\u001b[39mDs\u001b[39m\u001b[39m'\u001b[39m, \u001b[39m'\u001b[39m\u001b[39midade\u001b[39m\u001b[39m'\u001b[39m:\u001b[39m'\u001b[39m\u001b[39m2333\u001b[39m\u001b[39m'\u001b[39m}\n\u001b[0;32m----> 7\u001b[0m p \u001b[39m=\u001b[39m Pessoa(\u001b[39m*\u001b[39;49m\u001b[39m*\u001b[39;49mdados)\n",
      "\u001b[0;31mTypeError\u001b[0m: Pessoa.__init__() got an unexpected keyword argument 'idade'"
     ]
    }
   ],
   "source": [
    "class Pessoa:\n",
    "    def __init__(self, nome='Diego',idade='1000'):\n",
    "        self.nome = nome\n",
    "        self.idade = idade \n",
    "\n",
    "dados = {'nome':'Ds', 'idade':'2333'}\n",
    "\n",
    "p = Pessoa(**dados)\n"
   ]
  },
  {
   "cell_type": "code",
   "execution_count": null,
   "metadata": {},
   "outputs": [],
   "source": []
  },
  {
   "cell_type": "code",
   "execution_count": null,
   "metadata": {},
   "outputs": [],
   "source": []
  },
  {
   "cell_type": "code",
   "execution_count": null,
   "metadata": {},
   "outputs": [],
   "source": []
  }
 ],
 "metadata": {
  "kernelspec": {
   "display_name": "Python 3 (ipykernel)",
   "language": "python",
   "name": "python3"
  },
  "language_info": {
   "codemirror_mode": {
    "name": "ipython",
    "version": 3
   },
   "file_extension": ".py",
   "mimetype": "text/x-python",
   "name": "python",
   "nbconvert_exporter": "python",
   "pygments_lexer": "ipython3",
   "version": "3.10.8"
  },
  "orig_nbformat": 4,
  "vscode": {
   "interpreter": {
    "hash": "d6deea0041069495928bdc8eb83cf3a0061e45acad7117f6551cb8d8eb4a0e9d"
   }
  }
 },
 "nbformat": 4,
 "nbformat_minor": 2
}
