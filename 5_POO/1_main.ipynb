{
 "cells": [
  {
   "cell_type": "code",
   "execution_count": null,
   "metadata": {},
   "outputs": [],
   "source": [
    "# class - Classes são moldes para criar novos objetos\n",
    "# As classes geram novos objetos (instâncias) que\n",
    "# podem ter seus próprios atributos e métodos.\n",
    "# Os objetos gerados pela classe podem usar seus dados\n",
    "# internos para realizar várias ações.\n",
    "# Por convenção, usamos PascalCase para nomes de\n",
    "# classes.\n",
    "# string = 'Luiz'  # str\n",
    "# print(string.upper())\n",
    "# print(isinstance(string, str))\n",
    "class Pessoa:\n",
    "    ...\n",
    "\n",
    "\n",
    "p1 = Pessoa('Luiz', 'Otávio')\n",
    "p1.nome = 'Luiz'\n",
    "p1.sobrenome = 'Otávio'\n",
    "\n",
    "p2 = Pessoa('Maria', 'Joana')\n",
    "p2.nome = 'Maria'\n",
    "p2.sobrenome = 'Joana'\n",
    "\n",
    "print(p1.nome)\n",
    "print(p1.sobrenome)\n",
    "\n",
    "print(p2.nome)\n",
    "print(p2.sobrenome)"
   ]
  },
  {
   "cell_type": "code",
   "execution_count": null,
   "metadata": {},
   "outputs": [],
   "source": [
    "# Introdução ao método __init__ (inicializador de atributos)\n",
    "# As classes geram novos objetos (instâncias) que\n",
    "# podem ter seus próprios atributos e métodos.\n",
    "# Os objetos gerados pela classe podem usar seus dados\n",
    "# internos para realizar várias ações.\n",
    "# Por convenção, usamos PascalCase para nomes de\n",
    "# classes.\n",
    "# string = 'Luiz'  # str\n",
    "# print(string.upper())\n",
    "# print(isinstance(string, str))\n",
    "class Pessoa:\n",
    "    def __init__(self, nome, sobrenome):\n",
    "        self.nome = nome\n",
    "        self.sobrenome = sobrenome\n",
    "\n",
    "\n",
    "p1 = Pessoa('Luiz', 'Otávio')\n",
    "# p1.nome = 'Luiz'\n",
    "# p1.sobrenome = 'Otávio'\n",
    "\n",
    "p2 = Pessoa('Maria', 'Joana')\n",
    "# p2.nome = 'Maria'\n",
    "# p2.sobrenome = 'Joana'\n",
    "\n",
    "print(p1.nome)\n",
    "print(p1.sobrenome)\n",
    "\n",
    "print(p2.nome)\n",
    "print(p2.sobrenome)"
   ]
  },
  {
   "cell_type": "code",
   "execution_count": 7,
   "metadata": {},
   "outputs": [
    {
     "name": "stdout",
     "output_type": "stream",
     "text": [
      "Fusca está acelerando\n"
     ]
    }
   ],
   "source": [
    "class Carro:\n",
    "    def __init__(self, nome):\n",
    "        self.nome = nome\n",
    "\n",
    "    def acelerar(self):\n",
    "        print(f'{self.nome} está acelerando')\n",
    "        \n",
    "p = Carro('Fusca')\n",
    "p.acelerar()"
   ]
  },
  {
   "cell_type": "code",
   "execution_count": 12,
   "metadata": {},
   "outputs": [
    {
     "name": "stdout",
     "output_type": "stream",
     "text": [
      "fusca está acelerando\n"
     ]
    }
   ],
   "source": [
    "class Carro:\n",
    "\n",
    "    def acelerar(self):\n",
    "        print(f'{self.nome} está acelerando')\n",
    "        \n",
    "p = Carro()\n",
    "p.nome = 'fusca'\n",
    "p.acelerar()"
   ]
  },
  {
   "cell_type": "code",
   "execution_count": null,
   "metadata": {},
   "outputs": [],
   "source": []
  }
 ],
 "metadata": {
  "kernelspec": {
   "display_name": "Python 3 (ipykernel)",
   "language": "python",
   "name": "python3"
  },
  "orig_nbformat": 4,
  "vscode": {
   "interpreter": {
    "hash": "d6deea0041069495928bdc8eb83cf3a0061e45acad7117f6551cb8d8eb4a0e9d"
   }
  }
 },
 "nbformat": 4,
 "nbformat_minor": 2
}
