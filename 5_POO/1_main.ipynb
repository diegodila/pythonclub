{
 "cells": [
  {
   "cell_type": "code",
   "execution_count": null,
   "metadata": {},
   "outputs": [],
   "source": [
    "# class - Classes são moldes para criar novos objetos\n",
    "# As classes geram novos objetos (instâncias) que\n",
    "# podem ter seus próprios atributos e métodos.\n",
    "# Os objetos gerados pela classe podem usar seus dados\n",
    "# internos para realizar várias ações.\n",
    "# Por convenção, usamos PascalCase para nomes de\n",
    "# classes.\n",
    "# string = 'Luiz'  # str\n",
    "# print(string.upper())\n",
    "# print(isinstance(string, str))\n",
    "class Pessoa:\n",
    "    ...\n",
    "\n",
    "\n",
    "p1 = Pessoa('Luiz', 'Otávio')\n",
    "p1.nome = 'Luiz'\n",
    "p1.sobrenome = 'Otávio'\n",
    "\n",
    "p2 = Pessoa('Maria', 'Joana')\n",
    "p2.nome = 'Maria'\n",
    "p2.sobrenome = 'Joana'\n",
    "\n",
    "print(p1.nome)\n",
    "print(p1.sobrenome)\n",
    "\n",
    "print(p2.nome)\n",
    "print(p2.sobrenome)"
   ]
  }
 ],
 "metadata": {
  "language_info": {
   "name": "python"
  },
  "orig_nbformat": 4
 },
 "nbformat": 4,
 "nbformat_minor": 2
}
