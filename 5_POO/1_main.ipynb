{
 "cells": [
  {
   "cell_type": "code",
   "execution_count": null,
   "metadata": {},
   "outputs": [],
   "source": [
    "# class - Classes são moldes para criar novos objetos\n",
    "# As classes geram novos objetos (instâncias) que\n",
    "# podem ter seus próprios atributos e métodos.\n",
    "# Os objetos gerados pela classe podem usar seus dados\n",
    "# internos para realizar várias ações.\n",
    "# Por convenção, usamos PascalCase para nomes de\n",
    "# classes.\n",
    "# string = 'Luiz'  # str\n",
    "# print(string.upper())\n",
    "# print(isinstance(string, str))\n",
    "class Pessoa:\n",
    "    ...\n",
    "\n",
    "\n",
    "p1 = Pessoa('Luiz', 'Otávio')\n",
    "p1.nome = 'Luiz'\n",
    "p1.sobrenome = 'Otávio'\n",
    "\n",
    "p2 = Pessoa('Maria', 'Joana')\n",
    "p2.nome = 'Maria'\n",
    "p2.sobrenome = 'Joana'\n",
    "\n",
    "print(p1.nome)\n",
    "print(p1.sobrenome)\n",
    "\n",
    "print(p2.nome)\n",
    "print(p2.sobrenome)"
   ]
  },
  {
   "cell_type": "code",
   "execution_count": null,
   "metadata": {},
   "outputs": [],
   "source": [
    "# Introdução ao método __init__ (inicializador de atributos)\n",
    "# As classes geram novos objetos (instâncias) que\n",
    "# podem ter seus próprios atributos e métodos.\n",
    "# Os objetos gerados pela classe podem usar seus dados\n",
    "# internos para realizar várias ações.\n",
    "# Por convenção, usamos PascalCase para nomes de\n",
    "# classes.\n",
    "# string = 'Luiz'  # str\n",
    "# print(string.upper())\n",
    "# print(isinstance(string, str))\n",
    "class Pessoa:\n",
    "    def __init__(self, nome, sobrenome):\n",
    "        self.nome = nome\n",
    "        self.sobrenome = sobrenome\n",
    "\n",
    "\n",
    "p1 = Pessoa('Luiz', 'Otávio')\n",
    "# p1.nome = 'Luiz'\n",
    "# p1.sobrenome = 'Otávio'\n",
    "\n",
    "p2 = Pessoa('Maria', 'Joana')\n",
    "# p2.nome = 'Maria'\n",
    "# p2.sobrenome = 'Joana'\n",
    "\n",
    "print(p1.nome)\n",
    "print(p1.sobrenome)\n",
    "\n",
    "print(p2.nome)\n",
    "print(p2.sobrenome)"
   ]
  },
  {
   "cell_type": "code",
   "execution_count": null,
   "metadata": {},
   "outputs": [],
   "source": [
    "# Métodos em instâncias de classes Python\n",
    "# Hard coded - É algo que foi escrito diretamente no código\n",
    "class Carro:\n",
    "    def __init__(self, nome):\n",
    "        self.nome = nome\n",
    "\n",
    "    def acelerar(self):\n",
    "        print(f'{self.nome} está acelerando...')\n",
    "\n",
    "\n",
    "string = 'Luiz'\n",
    "print(string.upper())\n",
    "\n",
    "fusca = Carro('Fusca')\n",
    "print(fusca.nome)\n",
    "fusca.acelerar()\n",
    "\n",
    "celta = Carro(nome='Celta')\n",
    "print(celta.nome)\n",
    "celta.acelerar()"
   ]
  },
  {
   "cell_type": "code",
   "execution_count": null,
   "metadata": {},
   "outputs": [],
   "source": [
    "# Entendendo self em classes Python\n",
    "# Classe - Molde (geralmente sem dados)\n",
    "# Instância da class (objeto) - Tem os dados\n",
    "# Uma classe pode gerar várias instâncias.\n",
    "# Na classe o self é a própria instância.\n",
    "class Carro:\n",
    "    def __init__(self, nome):\n",
    "        self.nome = nome\n",
    "\n",
    "    def acelerar(self):\n",
    "        print(f'{self.nome} está acelerando...')\n",
    "\n",
    "\n",
    "fusca = Carro('Fusca')\n",
    "fusca.acelerar()\n",
    "Carro.acelerar(fusca)\n",
    "# print(fusca.nome)\n",
    "# fusca.acelerar()\n",
    "\n",
    "celta = Carro(nome='Celta')\n",
    "celta.acelerar()\n",
    "Carro.acelerar(celta)\n",
    "# print(celta.nome)"
   ]
  },
  {
   "cell_type": "code",
   "execution_count": 7,
   "metadata": {},
   "outputs": [
    {
     "ename": "NameError",
     "evalue": "name 'variavel' is not defined",
     "output_type": "error",
     "traceback": [
      "\u001b[0;31m---------------------------------------------------------------------------\u001b[0m",
      "\u001b[0;31mNameError\u001b[0m                                 Traceback (most recent call last)",
      "Cell \u001b[0;32mIn[7], line 14\u001b[0m\n\u001b[1;32m     11\u001b[0m         \u001b[39mreturn\u001b[39;00m acelerar(\u001b[39m*\u001b[39margs, \u001b[39m*\u001b[39m\u001b[39m*\u001b[39mkwargs)\n\u001b[1;32m     13\u001b[0m p \u001b[39m=\u001b[39m test(\u001b[39m'\u001b[39m\u001b[39mdiego\u001b[39m\u001b[39m'\u001b[39m)\n\u001b[0;32m---> 14\u001b[0m \u001b[39mprint\u001b[39m(p\u001b[39m.\u001b[39;49macelerar())\n",
      "Cell \u001b[0;32mIn[7], line 8\u001b[0m, in \u001b[0;36mtest.acelerar\u001b[0;34m(self)\u001b[0m\n\u001b[1;32m      7\u001b[0m \u001b[39mdef\u001b[39;00m \u001b[39macelerar\u001b[39m(\u001b[39mself\u001b[39m):\n\u001b[0;32m----> 8\u001b[0m     \u001b[39mreturn\u001b[39;00m \u001b[39mf\u001b[39m\u001b[39m'\u001b[39m\u001b[39m{\u001b[39;00m\u001b[39mself\u001b[39m\u001b[39m.\u001b[39mnome\u001b[39m}\u001b[39;00m\u001b[39m está acelerando \u001b[39m\u001b[39m{\u001b[39;00mvariavel\u001b[39m}\u001b[39;00m\u001b[39m'\u001b[39m\n",
      "\u001b[0;31mNameError\u001b[0m: name 'variavel' is not defined"
     ]
    }
   ],
   "source": [
    "class test:\n",
    "    variavel = 'diego'\n",
    "\n",
    "    def __init__(self,nome):\n",
    "        self.nome = nome\n",
    "\n",
    "    def acelerar(self):\n",
    "        return f'{self.nome} está acelerando {variavel}'\n",
    "\n",
    "    def ace(self,*args, **kwargs):\n",
    "        return acelerar(*args, **kwargs)\n",
    "    \n",
    "p = test('diego')\n",
    "print(p.acelerar())"
   ]
  },
  {
   "cell_type": "code",
   "execution_count": null,
   "metadata": {},
   "outputs": [],
   "source": []
  }
 ],
 "metadata": {
  "kernelspec": {
   "display_name": "Python 3 (ipykernel)",
   "language": "python",
   "name": "python3"
  },
  "language_info": {
   "codemirror_mode": {
    "name": "ipython",
    "version": 3
   },
   "file_extension": ".py",
   "mimetype": "text/x-python",
   "name": "python",
   "nbconvert_exporter": "python",
   "pygments_lexer": "ipython3",
   "version": "3.10.8"
  },
  "orig_nbformat": 4,
  "vscode": {
   "interpreter": {
    "hash": "d6deea0041069495928bdc8eb83cf3a0061e45acad7117f6551cb8d8eb4a0e9d"
   }
  }
 },
 "nbformat": 4,
 "nbformat_minor": 2
}
